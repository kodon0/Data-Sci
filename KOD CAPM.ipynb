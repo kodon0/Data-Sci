{
 "cells": [
  {
   "cell_type": "code",
   "execution_count": 2,
   "metadata": {},
   "outputs": [],
   "source": [
    "#Python CAPM Code (Capital Asset Pricing Model)"
   ]
  },
  {
   "cell_type": "code",
   "execution_count": 64,
   "metadata": {},
   "outputs": [],
   "source": [
    "import numpy as np\n",
    "import matplotlib.pyplot as plt\n",
    "from scipy import stats\n",
    "import pandas as pd\n",
    "import pandas_datareader as web\n",
    "%matplotlib inline"
   ]
  },
  {
   "cell_type": "code",
   "execution_count": 65,
   "metadata": {},
   "outputs": [
    {
     "name": "stdout",
     "output_type": "stream",
     "text": [
      "Help on function linregress in module scipy.stats._stats_mstats_common:\n",
      "\n",
      "linregress(x, y=None)\n",
      "    Calculate a linear least-squares regression for two sets of measurements.\n",
      "    \n",
      "    Parameters\n",
      "    ----------\n",
      "    x, y : array_like\n",
      "        Two sets of measurements.  Both arrays should have the same length.  If\n",
      "        only `x` is given (and ``y=None``), then it must be a two-dimensional\n",
      "        array where one dimension has length 2.  The two sets of measurements\n",
      "        are then found by splitting the array along the length-2 dimension.  In\n",
      "        the case where ``y=None`` and `x` is a 2x2 array, ``linregress(x)`` is\n",
      "        equivalent to ``linregress(x[0], x[1])``.\n",
      "    \n",
      "    Returns\n",
      "    -------\n",
      "    slope : float\n",
      "        Slope of the regression line.\n",
      "    intercept : float\n",
      "        Intercept of the regression line.\n",
      "    rvalue : float\n",
      "        Correlation coefficient.\n",
      "    pvalue : float\n",
      "        Two-sided p-value for a hypothesis test whose null hypothesis is\n",
      "        that the slope is zero, using Wald Test with t-distribution of\n",
      "        the test statistic.\n",
      "    stderr : float\n",
      "        Standard error of the estimated gradient.\n",
      "    \n",
      "    See also\n",
      "    --------\n",
      "    :func:`scipy.optimize.curve_fit` : Use non-linear\n",
      "     least squares to fit a function to data.\n",
      "    :func:`scipy.optimize.leastsq` : Minimize the sum of\n",
      "     squares of a set of equations.\n",
      "    \n",
      "    Notes\n",
      "    -----\n",
      "    Missing values are considered pair-wise: if a value is missing in `x`,\n",
      "    the corresponding value in `y` is masked.\n",
      "    \n",
      "    Examples\n",
      "    --------\n",
      "    >>> import matplotlib.pyplot as plt\n",
      "    >>> from scipy import stats\n",
      "    \n",
      "    Generate some data:\n",
      "    \n",
      "    >>> np.random.seed(12345678)\n",
      "    >>> x = np.random.random(10)\n",
      "    >>> y = 1.6*x + np.random.random(10)\n",
      "    \n",
      "    Perform the linear regression:\n",
      "    \n",
      "    >>> slope, intercept, r_value, p_value, std_err = stats.linregress(x, y)\n",
      "    >>> print(\"slope: %f    intercept: %f\" % (slope, intercept))\n",
      "    slope: 1.944864    intercept: 0.268578\n",
      "    \n",
      "    To get coefficient of determination (R-squared):\n",
      "    \n",
      "    >>> print(\"R-squared: %f\" % r_value**2)\n",
      "    R-squared: 0.735498\n",
      "    \n",
      "    Plot the data along with the fitted line:\n",
      "    \n",
      "    >>> plt.plot(x, y, 'o', label='original data')\n",
      "    >>> plt.plot(x, intercept + slope*x, 'r', label='fitted line')\n",
      "    >>> plt.legend()\n",
      "    >>> plt.show()\n",
      "    \n",
      "    Example for the case where only x is provided as a 2x2 array:\n",
      "    \n",
      "    >>> x = np.array([[0, 1], [0, 2]])\n",
      "    >>> r = stats.linregress(x)\n",
      "    >>> r.slope, r.intercept\n",
      "    (2.0, 0.0)\n",
      "\n"
     ]
    }
   ],
   "source": [
    "help(stats.linregress)"
   ]
  },
  {
   "cell_type": "code",
   "execution_count": 66,
   "metadata": {},
   "outputs": [],
   "source": [
    "#This is the index indicator for S&P 500\n",
    "spy_etf = web.DataReader('SPY', 'yahoo')"
   ]
  },
  {
   "cell_type": "code",
   "execution_count": 67,
   "metadata": {},
   "outputs": [
    {
     "name": "stdout",
     "output_type": "stream",
     "text": [
      "<class 'pandas.core.frame.DataFrame'>\n",
      "DatetimeIndex: 1258 entries, 2015-04-30 to 2020-04-28\n",
      "Data columns (total 6 columns):\n",
      " #   Column     Non-Null Count  Dtype  \n",
      "---  ------     --------------  -----  \n",
      " 0   High       1258 non-null   float64\n",
      " 1   Low        1258 non-null   float64\n",
      " 2   Open       1258 non-null   float64\n",
      " 3   Close      1258 non-null   float64\n",
      " 4   Volume     1258 non-null   float64\n",
      " 5   Adj Close  1258 non-null   float64\n",
      "dtypes: float64(6)\n",
      "memory usage: 68.8 KB\n"
     ]
    }
   ],
   "source": [
    "spy_etf.info()"
   ]
  },
  {
   "cell_type": "code",
   "execution_count": 68,
   "metadata": {},
   "outputs": [
    {
     "data": {
      "text/html": [
       "<div>\n",
       "<style scoped>\n",
       "    .dataframe tbody tr th:only-of-type {\n",
       "        vertical-align: middle;\n",
       "    }\n",
       "\n",
       "    .dataframe tbody tr th {\n",
       "        vertical-align: top;\n",
       "    }\n",
       "\n",
       "    .dataframe thead th {\n",
       "        text-align: right;\n",
       "    }\n",
       "</style>\n",
       "<table border=\"1\" class=\"dataframe\">\n",
       "  <thead>\n",
       "    <tr style=\"text-align: right;\">\n",
       "      <th></th>\n",
       "      <th>High</th>\n",
       "      <th>Low</th>\n",
       "      <th>Open</th>\n",
       "      <th>Close</th>\n",
       "      <th>Volume</th>\n",
       "      <th>Adj Close</th>\n",
       "    </tr>\n",
       "    <tr>\n",
       "      <th>Date</th>\n",
       "      <th></th>\n",
       "      <th></th>\n",
       "      <th></th>\n",
       "      <th></th>\n",
       "      <th></th>\n",
       "      <th></th>\n",
       "    </tr>\n",
       "  </thead>\n",
       "  <tbody>\n",
       "    <tr>\n",
       "      <th>2015-04-30</th>\n",
       "      <td>210.350006</td>\n",
       "      <td>207.619995</td>\n",
       "      <td>209.880005</td>\n",
       "      <td>208.460007</td>\n",
       "      <td>161304900.0</td>\n",
       "      <td>188.639069</td>\n",
       "    </tr>\n",
       "    <tr>\n",
       "      <th>2015-05-01</th>\n",
       "      <td>210.770004</td>\n",
       "      <td>209.279999</td>\n",
       "      <td>209.399994</td>\n",
       "      <td>210.720001</td>\n",
       "      <td>103399700.0</td>\n",
       "      <td>190.684189</td>\n",
       "    </tr>\n",
       "    <tr>\n",
       "      <th>2015-05-04</th>\n",
       "      <td>212.020004</td>\n",
       "      <td>211.100006</td>\n",
       "      <td>211.229996</td>\n",
       "      <td>211.320007</td>\n",
       "      <td>70927200.0</td>\n",
       "      <td>191.227142</td>\n",
       "    </tr>\n",
       "    <tr>\n",
       "      <th>2015-05-05</th>\n",
       "      <td>211.460007</td>\n",
       "      <td>208.729996</td>\n",
       "      <td>211.029999</td>\n",
       "      <td>208.899994</td>\n",
       "      <td>113326200.0</td>\n",
       "      <td>189.037262</td>\n",
       "    </tr>\n",
       "    <tr>\n",
       "      <th>2015-05-06</th>\n",
       "      <td>209.929993</td>\n",
       "      <td>206.759995</td>\n",
       "      <td>209.559998</td>\n",
       "      <td>208.039993</td>\n",
       "      <td>135060200.0</td>\n",
       "      <td>188.259018</td>\n",
       "    </tr>\n",
       "  </tbody>\n",
       "</table>\n",
       "</div>"
      ],
      "text/plain": [
       "                  High         Low        Open       Close       Volume  \\\n",
       "Date                                                                      \n",
       "2015-04-30  210.350006  207.619995  209.880005  208.460007  161304900.0   \n",
       "2015-05-01  210.770004  209.279999  209.399994  210.720001  103399700.0   \n",
       "2015-05-04  212.020004  211.100006  211.229996  211.320007   70927200.0   \n",
       "2015-05-05  211.460007  208.729996  211.029999  208.899994  113326200.0   \n",
       "2015-05-06  209.929993  206.759995  209.559998  208.039993  135060200.0   \n",
       "\n",
       "             Adj Close  \n",
       "Date                    \n",
       "2015-04-30  188.639069  \n",
       "2015-05-01  190.684189  \n",
       "2015-05-04  191.227142  \n",
       "2015-05-05  189.037262  \n",
       "2015-05-06  188.259018  "
      ]
     },
     "execution_count": 68,
     "metadata": {},
     "output_type": "execute_result"
    }
   ],
   "source": [
    "spy_etf.head()"
   ]
  },
  {
   "cell_type": "code",
   "execution_count": 69,
   "metadata": {},
   "outputs": [
    {
     "data": {
      "text/html": [
       "<div>\n",
       "<style scoped>\n",
       "    .dataframe tbody tr th:only-of-type {\n",
       "        vertical-align: middle;\n",
       "    }\n",
       "\n",
       "    .dataframe tbody tr th {\n",
       "        vertical-align: top;\n",
       "    }\n",
       "\n",
       "    .dataframe thead th {\n",
       "        text-align: right;\n",
       "    }\n",
       "</style>\n",
       "<table border=\"1\" class=\"dataframe\">\n",
       "  <thead>\n",
       "    <tr style=\"text-align: right;\">\n",
       "      <th></th>\n",
       "      <th>High</th>\n",
       "      <th>Low</th>\n",
       "      <th>Open</th>\n",
       "      <th>Close</th>\n",
       "      <th>Volume</th>\n",
       "      <th>Adj Close</th>\n",
       "    </tr>\n",
       "    <tr>\n",
       "      <th>Date</th>\n",
       "      <th></th>\n",
       "      <th></th>\n",
       "      <th></th>\n",
       "      <th></th>\n",
       "      <th></th>\n",
       "      <th></th>\n",
       "    </tr>\n",
       "  </thead>\n",
       "  <tbody>\n",
       "    <tr>\n",
       "      <th>2020-04-22</th>\n",
       "      <td>281.000000</td>\n",
       "      <td>276.910004</td>\n",
       "      <td>278.350006</td>\n",
       "      <td>279.100006</td>\n",
       "      <td>93524600.0</td>\n",
       "      <td>279.100006</td>\n",
       "    </tr>\n",
       "    <tr>\n",
       "      <th>2020-04-23</th>\n",
       "      <td>283.940002</td>\n",
       "      <td>278.750000</td>\n",
       "      <td>280.489990</td>\n",
       "      <td>279.079987</td>\n",
       "      <td>104709700.0</td>\n",
       "      <td>279.079987</td>\n",
       "    </tr>\n",
       "    <tr>\n",
       "      <th>2020-04-24</th>\n",
       "      <td>283.700012</td>\n",
       "      <td>278.500000</td>\n",
       "      <td>280.730011</td>\n",
       "      <td>282.970001</td>\n",
       "      <td>85166000.0</td>\n",
       "      <td>282.970001</td>\n",
       "    </tr>\n",
       "    <tr>\n",
       "      <th>2020-04-27</th>\n",
       "      <td>288.269989</td>\n",
       "      <td>284.619995</td>\n",
       "      <td>285.119995</td>\n",
       "      <td>287.049988</td>\n",
       "      <td>77896600.0</td>\n",
       "      <td>287.049988</td>\n",
       "    </tr>\n",
       "    <tr>\n",
       "      <th>2020-04-28</th>\n",
       "      <td>291.399994</td>\n",
       "      <td>285.399994</td>\n",
       "      <td>291.019989</td>\n",
       "      <td>285.730011</td>\n",
       "      <td>104906700.0</td>\n",
       "      <td>285.730011</td>\n",
       "    </tr>\n",
       "  </tbody>\n",
       "</table>\n",
       "</div>"
      ],
      "text/plain": [
       "                  High         Low        Open       Close       Volume  \\\n",
       "Date                                                                      \n",
       "2020-04-22  281.000000  276.910004  278.350006  279.100006   93524600.0   \n",
       "2020-04-23  283.940002  278.750000  280.489990  279.079987  104709700.0   \n",
       "2020-04-24  283.700012  278.500000  280.730011  282.970001   85166000.0   \n",
       "2020-04-27  288.269989  284.619995  285.119995  287.049988   77896600.0   \n",
       "2020-04-28  291.399994  285.399994  291.019989  285.730011  104906700.0   \n",
       "\n",
       "             Adj Close  \n",
       "Date                    \n",
       "2020-04-22  279.100006  \n",
       "2020-04-23  279.079987  \n",
       "2020-04-24  282.970001  \n",
       "2020-04-27  287.049988  \n",
       "2020-04-28  285.730011  "
      ]
     },
     "execution_count": 69,
     "metadata": {},
     "output_type": "execute_result"
    }
   ],
   "source": [
    "spy_etf.tail()"
   ]
  },
  {
   "cell_type": "code",
   "execution_count": 74,
   "metadata": {},
   "outputs": [],
   "source": [
    "#Define start and end\n",
    "start = pd.to_datetime('2015-05-01')\n",
    "end = pd.to_datetime('2020-04-28')"
   ]
  },
  {
   "cell_type": "code",
   "execution_count": 75,
   "metadata": {},
   "outputs": [],
   "source": [
    "aapl = web.DataReader('AAPL', 'yahoo', start, end)"
   ]
  },
  {
   "cell_type": "code",
   "execution_count": 76,
   "metadata": {},
   "outputs": [
    {
     "data": {
      "text/html": [
       "<div>\n",
       "<style scoped>\n",
       "    .dataframe tbody tr th:only-of-type {\n",
       "        vertical-align: middle;\n",
       "    }\n",
       "\n",
       "    .dataframe tbody tr th {\n",
       "        vertical-align: top;\n",
       "    }\n",
       "\n",
       "    .dataframe thead th {\n",
       "        text-align: right;\n",
       "    }\n",
       "</style>\n",
       "<table border=\"1\" class=\"dataframe\">\n",
       "  <thead>\n",
       "    <tr style=\"text-align: right;\">\n",
       "      <th></th>\n",
       "      <th>High</th>\n",
       "      <th>Low</th>\n",
       "      <th>Open</th>\n",
       "      <th>Close</th>\n",
       "      <th>Volume</th>\n",
       "      <th>Adj Close</th>\n",
       "    </tr>\n",
       "    <tr>\n",
       "      <th>Date</th>\n",
       "      <th></th>\n",
       "      <th></th>\n",
       "      <th></th>\n",
       "      <th></th>\n",
       "      <th></th>\n",
       "      <th></th>\n",
       "    </tr>\n",
       "  </thead>\n",
       "  <tbody>\n",
       "    <tr>\n",
       "      <th>2015-04-30</th>\n",
       "      <td>128.639999</td>\n",
       "      <td>124.580002</td>\n",
       "      <td>128.639999</td>\n",
       "      <td>125.150002</td>\n",
       "      <td>83195400.0</td>\n",
       "      <td>115.170479</td>\n",
       "    </tr>\n",
       "    <tr>\n",
       "      <th>2015-05-01</th>\n",
       "      <td>130.130005</td>\n",
       "      <td>125.300003</td>\n",
       "      <td>126.099998</td>\n",
       "      <td>128.949997</td>\n",
       "      <td>58512600.0</td>\n",
       "      <td>118.667458</td>\n",
       "    </tr>\n",
       "    <tr>\n",
       "      <th>2015-05-04</th>\n",
       "      <td>130.570007</td>\n",
       "      <td>128.259995</td>\n",
       "      <td>129.500000</td>\n",
       "      <td>128.699997</td>\n",
       "      <td>50988300.0</td>\n",
       "      <td>118.437393</td>\n",
       "    </tr>\n",
       "    <tr>\n",
       "      <th>2015-05-05</th>\n",
       "      <td>128.449997</td>\n",
       "      <td>125.779999</td>\n",
       "      <td>128.149994</td>\n",
       "      <td>125.800003</td>\n",
       "      <td>49271400.0</td>\n",
       "      <td>115.768646</td>\n",
       "    </tr>\n",
       "    <tr>\n",
       "      <th>2015-05-06</th>\n",
       "      <td>126.750000</td>\n",
       "      <td>123.360001</td>\n",
       "      <td>126.559998</td>\n",
       "      <td>125.010002</td>\n",
       "      <td>72141000.0</td>\n",
       "      <td>115.041649</td>\n",
       "    </tr>\n",
       "  </tbody>\n",
       "</table>\n",
       "</div>"
      ],
      "text/plain": [
       "                  High         Low        Open       Close      Volume  \\\n",
       "Date                                                                     \n",
       "2015-04-30  128.639999  124.580002  128.639999  125.150002  83195400.0   \n",
       "2015-05-01  130.130005  125.300003  126.099998  128.949997  58512600.0   \n",
       "2015-05-04  130.570007  128.259995  129.500000  128.699997  50988300.0   \n",
       "2015-05-05  128.449997  125.779999  128.149994  125.800003  49271400.0   \n",
       "2015-05-06  126.750000  123.360001  126.559998  125.010002  72141000.0   \n",
       "\n",
       "             Adj Close  \n",
       "Date                    \n",
       "2015-04-30  115.170479  \n",
       "2015-05-01  118.667458  \n",
       "2015-05-04  118.437393  \n",
       "2015-05-05  115.768646  \n",
       "2015-05-06  115.041649  "
      ]
     },
     "execution_count": 76,
     "metadata": {},
     "output_type": "execute_result"
    }
   ],
   "source": [
    "aapl.head()"
   ]
  },
  {
   "cell_type": "code",
   "execution_count": 77,
   "metadata": {},
   "outputs": [
    {
     "data": {
      "text/plain": [
       "Text(0.5, 1.0, 'AAPL vs Index Close')"
      ]
     },
     "execution_count": 77,
     "metadata": {},
     "output_type": "execute_result"
    },
    {
     "data": {
      "image/png": "[encoded data removed]",
      "text/plain": [
       "<Figure size 864x648 with 1 Axes>"
      ]
     },
     "metadata": {
      "needs_background": "light"
     },
     "output_type": "display_data"
    }
   ],
   "source": [
    "aapl['Close'].plot(label='AAPL', figsize=(12,9))\n",
    "spy_etf['Close'].plot(label='SPY Index', figsize=(12,9))\n",
    "plt.legend()\n",
    "plt.title('AAPL vs Index Close')"
   ]
  },
  {
   "cell_type": "code",
   "execution_count": 78,
   "metadata": {},
   "outputs": [],
   "source": [
    "#Compare cummulative return\n",
    "aapl['Cummulative']=aapl['Close']/aapl['Close'].iloc[0]\n",
    "spy_etf['Cummulative']=spy_etf['Close']/spy_etf['Close'].iloc[0]"
   ]
  },
  {
   "cell_type": "code",
   "execution_count": 79,
   "metadata": {},
   "outputs": [
    {
     "data": {
      "text/plain": [
       "Text(0.5, 1.0, 'AAPL vs Index Cummulative')"
      ]
     },
     "execution_count": 79,
     "metadata": {},
     "output_type": "execute_result"
    },
    {
     "data": {
      "image/png": "[encoded data removed]",
      "text/plain": [
       "<Figure size 864x648 with 1 Axes>"
      ]
     },
     "metadata": {
      "needs_background": "light"
     },
     "output_type": "display_data"
    }
   ],
   "source": [
    "aapl['Cummulative'].plot(label='AAPL', figsize=(12,9))\n",
    "spy_etf['Cummulative'].plot(label='SPY Index', figsize=(12,9))\n",
    "plt.legend()\n",
    "plt.title('AAPL vs Index Cummulative')"
   ]
  },
  {
   "cell_type": "code",
   "execution_count": 80,
   "metadata": {},
   "outputs": [],
   "source": [
    "#Compare daily return\n",
    "aapl['Daily return']=aapl['Close'].pct_change(1)\n",
    "spy_etf['Daily return']=spy_etf['Close'].pct_change(1)"
   ]
  },
  {
   "cell_type": "code",
   "execution_count": 82,
   "metadata": {},
   "outputs": [
    {
     "data": {
      "text/plain": [
       "<matplotlib.collections.PathCollection at 0x1a2f2976d0>"
      ]
     },
     "execution_count": 82,
     "metadata": {},
     "output_type": "execute_result"
    },
    {
     "data": {
      "image/png": "[encoded data removed]",
      "text/plain": [
       "<Figure size 432x288 with 1 Axes>"
      ]
     },
     "metadata": {
      "needs_background": "light"
     },
     "output_type": "display_data"
    }
   ],
   "source": [
    "plt.scatter(aapl['Daily return'],spy_etf['Daily return'], alpha= 0.5)"
   ]
  },
  {
   "cell_type": "code",
   "execution_count": 84,
   "metadata": {},
   "outputs": [],
   "source": [
    "#Can see some relationship"
   ]
  },
  {
   "cell_type": "code",
   "execution_count": 92,
   "metadata": {},
   "outputs": [],
   "source": [
    "#Find linear regression\n",
    "#Calculate beta:\n",
    "beta,alpha,r_value,p_value,std_err = stats.linregress(aapl['Daily return'].iloc[1:],\n",
    "                                                      spy_etf['Daily return'].iloc[1:])"
   ]
  },
  {
   "cell_type": "code",
   "execution_count": 93,
   "metadata": {},
   "outputs": [
    {
     "data": {
      "text/plain": [
       "0.4970543385414767"
      ]
     },
     "execution_count": 93,
     "metadata": {},
     "output_type": "execute_result"
    }
   ],
   "source": [
    "beta"
   ]
  },
  {
   "cell_type": "code",
   "execution_count": 94,
   "metadata": {},
   "outputs": [
    {
     "data": {
      "text/plain": [
       "-7.813179689088613e-05"
      ]
     },
     "execution_count": 94,
     "metadata": {},
     "output_type": "execute_result"
    }
   ],
   "source": [
    "alpha"
   ]
  },
  {
   "cell_type": "code",
   "execution_count": 90,
   "metadata": {},
   "outputs": [
    {
     "data": {
      "text/plain": [
       "0.767518063570932"
      ]
     },
     "execution_count": 90,
     "metadata": {},
     "output_type": "execute_result"
    }
   ],
   "source": [
    "r_value"
   ]
  },
  {
   "cell_type": "code",
   "execution_count": 91,
   "metadata": {},
   "outputs": [
    {
     "data": {
      "text/plain": [
       "0.011718443709418167"
      ]
     },
     "execution_count": 91,
     "metadata": {},
     "output_type": "execute_result"
    }
   ],
   "source": [
    "std_err"
   ]
  },
  {
   "cell_type": "code",
   "execution_count": 95,
   "metadata": {},
   "outputs": [],
   "source": [
    "#This is a considerable beta and r_value as COVID-19"
   ]
  },
  {
   "cell_type": "code",
   "execution_count": 98,
   "metadata": {},
   "outputs": [],
   "source": [
    "#Create noise from random numpy, normally distrbuted\n",
    "noise = np.random.normal(0,0.001,len(spy_etf['Daily return'].iloc[1:]))"
   ]
  },
  {
   "cell_type": "code",
   "execution_count": 99,
   "metadata": {},
   "outputs": [
    {
     "data": {
      "text/plain": [
       "array([ 0.0004801 , -0.00012532, -0.0009349 , ...,  0.00069394,\n",
       "       -0.00115117,  0.00019625])"
      ]
     },
     "execution_count": 99,
     "metadata": {},
     "output_type": "execute_result"
    }
   ],
   "source": [
    "noise"
   ]
  },
  {
   "cell_type": "code",
   "execution_count": 103,
   "metadata": {},
   "outputs": [],
   "source": [
    "#Spy + noise\n",
    "fake_stock = spy_etf['Daily return'].iloc[1:]+noise"
   ]
  },
  {
   "cell_type": "code",
   "execution_count": 108,
   "metadata": {},
   "outputs": [
    {
     "data": {
      "text/plain": [
       "<matplotlib.collections.PathCollection at 0x1a2f03d090>"
      ]
     },
     "execution_count": 108,
     "metadata": {},
     "output_type": "execute_result"
    },
    {
     "data": {
      "image/png": "[encoded data removed]",
      "text/plain": [
       "<Figure size 432x288 with 1 Axes>"
      ]
     },
     "metadata": {
      "needs_background": "light"
     },
     "output_type": "display_data"
    }
   ],
   "source": [
    "plt.scatter(fake_stock,spy_etf['Daily return'].iloc[1:], alpha= 0.5)"
   ]
  },
  {
   "cell_type": "code",
   "execution_count": 114,
   "metadata": {},
   "outputs": [],
   "source": [
    "#Great relationship with noise data\n",
    "#Find beta for noise\n",
    "beta,alpha,r_value,p_value,std_err = stats.linregress(fake_stock,\n",
    "                                                      spy_etf['Daily return'].iloc[1:])"
   ]
  },
  {
   "cell_type": "code",
   "execution_count": 115,
   "metadata": {},
   "outputs": [
    {
     "data": {
      "text/plain": [
       "0.9909555400009704"
      ]
     },
     "execution_count": 115,
     "metadata": {},
     "output_type": "execute_result"
    }
   ],
   "source": [
    "beta"
   ]
  },
  {
   "cell_type": "code",
   "execution_count": 116,
   "metadata": {},
   "outputs": [
    {
     "data": {
      "text/plain": [
       "-1.2433544377157834e-05"
      ]
     },
     "execution_count": 116,
     "metadata": {},
     "output_type": "execute_result"
    }
   ],
   "source": [
    "alpha"
   ]
  },
  {
   "cell_type": "code",
   "execution_count": 117,
   "metadata": {},
   "outputs": [
    {
     "data": {
      "text/plain": [
       "0.9964779079390719"
      ]
     },
     "execution_count": 117,
     "metadata": {},
     "output_type": "execute_result"
    }
   ],
   "source": [
    "r_value"
   ]
  },
  {
   "cell_type": "code",
   "execution_count": null,
   "metadata": {},
   "outputs": [],
   "source": [
    "#Algorithms need higher alpha!!"
   ]
  }
 ],
 "metadata": {
  "kernelspec": {
   "display_name": "Python 3",
   "language": "python",
   "name": "python3"
  },
  "language_info": {
   "codemirror_mode": {
    "name": "ipython",
    "version": 3
   },
   "file_extension": ".py",
   "mimetype": "text/x-python",
   "name": "python",
   "nbconvert_exporter": "python",
   "pygments_lexer": "ipython3",
   "version": "3.7.6"
  }
 },
 "nbformat": 4,
 "nbformat_minor": 4
}
