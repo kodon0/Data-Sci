{
 "cells": [
  {
   "cell_type": "code",
   "execution_count": 1,
   "metadata": {},
   "outputs": [],
   "source": [
    "# Always neds to be done in Rasberry Pi\n",
    "import findspark\n",
    "findspark.init('/home/baxman/spark-2.4.7-bin-hadoop2.7')\n",
    "from pyspark.sql import SparkSession\n",
    "spark = SparkSession.builder.appName('churn').getOrCreate()"
   ]
  },
  {
   "cell_type": "code",
   "execution_count": 2,
   "metadata": {},
   "outputs": [],
   "source": [
    "# Import LinReg from MLlib\n",
    "from pyspark.ml.classification import LogisticRegression"
   ]
  },
  {
   "cell_type": "code",
   "execution_count": 3,
   "metadata": {},
   "outputs": [],
   "source": [
    "# This notebook will predict customer churn and manager assignment for a local business"
   ]
  },
  {
   "cell_type": "code",
   "execution_count": 4,
   "metadata": {},
   "outputs": [],
   "source": [
    "# Set data\n",
    "data = spark.read.csv('/home/baxman/Codes/PySpark/Python-and-Spark-for-Big-Data-master/Spark_for_Machine_Learning/Logistic_Regression/customer_churn.csv', header = True, inferSchema = True)"
   ]
  },
  {
   "cell_type": "code",
   "execution_count": 5,
   "metadata": {},
   "outputs": [
    {
     "name": "stdout",
     "output_type": "stream",
     "text": [
      "root\n",
      " |-- Names: string (nullable = true)\n",
      " |-- Age: double (nullable = true)\n",
      " |-- Total_Purchase: double (nullable = true)\n",
      " |-- Account_Manager: integer (nullable = true)\n",
      " |-- Years: double (nullable = true)\n",
      " |-- Num_Sites: double (nullable = true)\n",
      " |-- Onboard_date: timestamp (nullable = true)\n",
      " |-- Location: string (nullable = true)\n",
      " |-- Company: string (nullable = true)\n",
      " |-- Churn: integer (nullable = true)\n",
      "\n"
     ]
    }
   ],
   "source": [
    "# Checking data schema\n",
    "data.printSchema()"
   ]
  },
  {
   "cell_type": "code",
   "execution_count": 8,
   "metadata": {},
   "outputs": [
    {
     "data": {
      "text/plain": [
       "['Names',\n",
       " 'Age',\n",
       " 'Total_Purchase',\n",
       " 'Account_Manager',\n",
       " 'Years',\n",
       " 'Num_Sites',\n",
       " 'Onboard_date',\n",
       " 'Location',\n",
       " 'Company',\n",
       " 'Churn']"
      ]
     },
     "execution_count": 8,
     "metadata": {},
     "output_type": "execute_result"
    }
   ],
   "source": [
    "data.columns"
   ]
  },
  {
   "cell_type": "code",
   "execution_count": 9,
   "metadata": {},
   "outputs": [
    {
     "name": "stdout",
     "output_type": "stream",
     "text": [
      "+-------------------+----+--------------+---------------+-----+---------+-------------------+--------------------+--------------------+-----+\n",
      "|              Names| Age|Total_Purchase|Account_Manager|Years|Num_Sites|       Onboard_date|            Location|             Company|Churn|\n",
      "+-------------------+----+--------------+---------------+-----+---------+-------------------+--------------------+--------------------+-----+\n",
      "|   Cameron Williams|42.0|       11066.8|              0| 7.22|      8.0|2013-08-30 07:00:40|10265 Elizabeth M...|          Harvey LLC|    1|\n",
      "|      Kevin Mueller|41.0|      11916.22|              0|  6.5|     11.0|2013-08-13 00:38:46|6157 Frank Garden...|          Wilson PLC|    1|\n",
      "|        Eric Lozano|38.0|      12884.75|              0| 6.67|     12.0|2016-06-29 06:20:07|1331 Keith Court ...|Miller, Johnson a...|    1|\n",
      "|      Phillip White|42.0|       8010.76|              0| 6.71|     10.0|2014-04-22 12:43:12|13120 Daniel Moun...|           Smith Inc|    1|\n",
      "|     Cynthia Norton|37.0|       9191.58|              0| 5.56|      9.0|2016-01-19 15:31:15|765 Tricia Row Ka...|          Love-Jones|    1|\n",
      "|   Jessica Williams|48.0|      10356.02|              0| 5.12|      8.0|2009-03-03 23:13:37|6187 Olson Mounta...|        Kelly-Warren|    1|\n",
      "|        Eric Butler|44.0|      11331.58|              1| 5.23|     11.0|2016-12-05 03:35:43|4846 Savannah Roa...|   Reynolds-Sheppard|    1|\n",
      "|      Zachary Walsh|32.0|       9885.12|              1| 6.92|      9.0|2006-03-09 14:50:20|25271 Roy Express...|          Singh-Cole|    1|\n",
      "|        Ashlee Carr|43.0|       14062.6|              1| 5.46|     11.0|2011-09-29 05:47:23|3725 Caroline Str...|           Lopez PLC|    1|\n",
      "|     Jennifer Lynch|40.0|       8066.94|              1| 7.11|     11.0|2006-03-28 15:42:45|363 Sandra Lodge ...|       Reed-Martinez|    1|\n",
      "|       Paula Harris|30.0|      11575.37|              1| 5.22|      8.0|2016-11-13 13:13:01|Unit 8120 Box 916...|Briggs, Lamb and ...|    1|\n",
      "|     Bruce Phillips|45.0|       8771.02|              1| 6.64|     11.0|2015-05-28 12:14:03|Unit 1895 Box 094...|    Figueroa-Maynard|    1|\n",
      "|       Craig Garner|45.0|       8988.67|              1| 4.84|     11.0|2011-02-16 08:10:47|897 Kelley Overpa...|     Abbott-Thompson|    1|\n",
      "|       Nicole Olson|40.0|       8283.32|              1|  5.1|     13.0|2012-11-22 05:35:03|11488 Weaver Cape...|Smith, Kim and Ma...|    1|\n",
      "|     Harold Griffin|41.0|       6569.87|              1|  4.3|     11.0|2015-03-28 02:13:44|1774 Peter Row Ap...|Snyder, Lee and M...|    1|\n",
      "|       James Wright|38.0|      10494.82|              1| 6.81|     12.0|2015-07-22 08:38:40|45408 David Path ...|      Sanders-Pierce|    1|\n",
      "|      Doris Wilkins|45.0|       8213.41|              1| 7.35|     11.0|2006-09-03 06:13:55|28216 Wright Moun...|Andrews, Adams an...|    1|\n",
      "|Katherine Carpenter|43.0|      11226.88|              0| 8.08|     12.0|2006-10-22 04:42:38|Unit 4948 Box 481...|Morgan, Phillips ...|    1|\n",
      "|     Lindsay Martin|53.0|       5515.09|              0| 6.85|      8.0|2015-10-07 00:27:10|69203 Crosby Divi...|      Villanueva LLC|    1|\n",
      "|        Kathy Curry|46.0|        8046.4|              1| 5.69|      8.0|2014-11-06 23:47:14|9569 Caldwell Cre...|Berry, Orr and Ca...|    1|\n",
      "+-------------------+----+--------------+---------------+-----+---------+-------------------+--------------------+--------------------+-----+\n",
      "only showing top 20 rows\n",
      "\n"
     ]
    }
   ],
   "source": [
    "data.show()"
   ]
  },
  {
   "cell_type": "code",
   "execution_count": 25,
   "metadata": {},
   "outputs": [],
   "source": [
    "# Only choosing relevant columns...\n",
    "cols = data.select(['Age',\n",
    "                     'Total_Purchase',\n",
    "                    'Account_Manager',\n",
    "                     'Years',\n",
    "                     'Num_Sites',\n",
    "                     'Churn'])"
   ]
  },
  {
   "cell_type": "code",
   "execution_count": 26,
   "metadata": {},
   "outputs": [],
   "source": [
    "# Will drop missing data\n",
    "data_fin = cols.na.drop()"
   ]
  },
  {
   "cell_type": "code",
   "execution_count": 27,
   "metadata": {},
   "outputs": [
    {
     "name": "stdout",
     "output_type": "stream",
     "text": [
      "+----+--------------+---------------+-----+---------+-----+\n",
      "| Age|Total_Purchase|Account_Manager|Years|Num_Sites|Churn|\n",
      "+----+--------------+---------------+-----+---------+-----+\n",
      "|42.0|       11066.8|              0| 7.22|      8.0|    1|\n",
      "|41.0|      11916.22|              0|  6.5|     11.0|    1|\n",
      "|38.0|      12884.75|              0| 6.67|     12.0|    1|\n",
      "|42.0|       8010.76|              0| 6.71|     10.0|    1|\n",
      "|37.0|       9191.58|              0| 5.56|      9.0|    1|\n",
      "|48.0|      10356.02|              0| 5.12|      8.0|    1|\n",
      "|44.0|      11331.58|              1| 5.23|     11.0|    1|\n",
      "|32.0|       9885.12|              1| 6.92|      9.0|    1|\n",
      "|43.0|       14062.6|              1| 5.46|     11.0|    1|\n",
      "|40.0|       8066.94|              1| 7.11|     11.0|    1|\n",
      "|30.0|      11575.37|              1| 5.22|      8.0|    1|\n",
      "|45.0|       8771.02|              1| 6.64|     11.0|    1|\n",
      "|45.0|       8988.67|              1| 4.84|     11.0|    1|\n",
      "|40.0|       8283.32|              1|  5.1|     13.0|    1|\n",
      "|41.0|       6569.87|              1|  4.3|     11.0|    1|\n",
      "|38.0|      10494.82|              1| 6.81|     12.0|    1|\n",
      "|45.0|       8213.41|              1| 7.35|     11.0|    1|\n",
      "|43.0|      11226.88|              0| 8.08|     12.0|    1|\n",
      "|53.0|       5515.09|              0| 6.85|      8.0|    1|\n",
      "|46.0|        8046.4|              1| 5.69|      8.0|    1|\n",
      "+----+--------------+---------------+-----+---------+-----+\n",
      "only showing top 20 rows\n",
      "\n"
     ]
    }
   ],
   "source": [
    "data_fin.show()"
   ]
  },
  {
   "cell_type": "code",
   "execution_count": 28,
   "metadata": {},
   "outputs": [],
   "source": [
    "# Categorical data already encoded - onhotencoding not required!\n",
    "\n",
    "\n",
    "from pyspark.ml.feature import (VectorAssembler,VectorIndexer)"
   ]
  },
  {
   "cell_type": "code",
   "execution_count": 29,
   "metadata": {},
   "outputs": [],
   "source": [
    "# Assemble...\n",
    "\n",
    "assembler = VectorAssembler(inputCols=['Age',\n",
    "                     'Total_Purchase',\n",
    "                    'Account_Manager',\n",
    "                     'Years',\n",
    "                     'Num_Sites',],outputCol='features')"
   ]
  },
  {
   "cell_type": "code",
   "execution_count": 30,
   "metadata": {},
   "outputs": [],
   "source": [
    "# Import Logistic Regression\n",
    "\n",
    "from pyspark.ml.classification import LogisticRegression"
   ]
  },
  {
   "cell_type": "code",
   "execution_count": 31,
   "metadata": {},
   "outputs": [],
   "source": [
    "# Seting up a pipeline, train/test split\n",
    "\n",
    "from pyspark.ml import Pipeline\n",
    "log_reg_churn = LogisticRegression(featuresCol='features',labelCol='Churn')\n",
    "\n",
    "# Define pipeline -> stages: define each step in pipeline\n",
    "\n",
    "pipeline = Pipeline(stages=[assembler,log_reg_churn])\n",
    "train,test = data_fin.randomSplit([0.7,0.3])"
   ]
  },
  {
   "cell_type": "code",
   "execution_count": 37,
   "metadata": {},
   "outputs": [],
   "source": [
    "# Fit model\n",
    "\n",
    "fit_model = pipeline.fit(train)"
   ]
  },
  {
   "cell_type": "code",
   "execution_count": 45,
   "metadata": {},
   "outputs": [],
   "source": [
    "# Showing summary\n",
    "\n",
    "logi_reg_summary = fit_model.stages[-1].summary"
   ]
  },
  {
   "cell_type": "code",
   "execution_count": 47,
   "metadata": {},
   "outputs": [
    {
     "name": "stdout",
     "output_type": "stream",
     "text": [
      "+----+--------------+---------------+-----+---------+-----+--------------------+--------------------+--------------------+----------+\n",
      "| Age|Total_Purchase|Account_Manager|Years|Num_Sites|Churn|            features|       rawPrediction|         probability|prediction|\n",
      "+----+--------------+---------------+-----+---------+-----+--------------------+--------------------+--------------------+----------+\n",
      "|22.0|      11254.38|              1| 4.96|      8.0|  0.0|[22.0,11254.38,1....|[4.13087308265087...|[0.98418528097326...|       0.0|\n",
      "|25.0|       9672.03|              0| 5.49|      8.0|  0.0|[25.0,9672.03,0.0...|[4.30213894990538...|[0.98664130341408...|       0.0|\n",
      "|26.0|       8787.39|              1| 5.42|     11.0|  1.0|[26.0,8787.39,1.0...|[0.16174760918549...|[0.54034897217393...|       0.0|\n",
      "|26.0|       8939.61|              0| 4.54|      7.0|  0.0|[26.0,8939.61,0.0...|[5.98261992459265...|[0.99748413590724...|       0.0|\n",
      "|27.0|        8628.8|              1|  5.3|      7.0|  0.0|[27.0,8628.8,1.0,...|[4.95369643165270...|[0.99299218216511...|       0.0|\n",
      "|28.0|       8670.98|              0| 3.99|      6.0|  0.0|[28.0,8670.98,0.0...|[7.39189771687142...|[0.99938415407810...|       0.0|\n",
      "|28.0|      11128.95|              1| 5.12|      8.0|  0.0|[28.0,11128.95,1....|[3.77814238324638...|[0.97764600039096...|       0.0|\n",
      "|28.0|      11204.23|              0| 3.67|     11.0|  0.0|[28.0,11204.23,0....|[1.56910833132985...|[0.82765645669280...|       0.0|\n",
      "|29.0|       8688.17|              1|  5.7|      9.0|  1.0|[29.0,8688.17,1.0...|[2.26012750387296...|[0.90552053996440...|       0.0|\n",
      "|29.0|      12711.15|              0| 5.74|      7.0|  0.0|[29.0,12711.15,0....|[5.13289006043158...|[0.99413511387179...|       0.0|\n",
      "|29.0|      13240.01|              1| 4.58|      6.0|  0.0|[29.0,13240.01,1....|[6.38229530233066...|[0.99831161885314...|       0.0|\n",
      "|29.0|      13255.05|              1| 4.89|      8.0|  0.0|[29.0,13255.05,1....|[3.82775023981792...|[0.97870483897689...|       0.0|\n",
      "|30.0|       8403.78|              1| 4.13|      7.0|  0.0|[30.0,8403.78,1.0...|[5.46637640119783...|[0.99579126863090...|       0.0|\n",
      "|30.0|       8874.83|              0| 5.56|      9.0|  0.0|[30.0,8874.83,0.0...|[2.86147302636049...|[0.94590871704862...|       0.0|\n",
      "|30.0|      10744.14|              1| 7.16|      9.0|  1.0|[30.0,10744.14,1....|[1.38254040884838...|[0.79939869115729...|       0.0|\n",
      "|30.0|      10960.52|              1| 5.96|      9.0|  0.0|[30.0,10960.52,1....|[2.03837569612423...|[0.88476776752950...|       0.0|\n",
      "|30.0|      11575.37|              1| 5.22|      8.0|  1.0|[30.0,11575.37,1....|[3.62752393517546...|[0.97410638060784...|       0.0|\n",
      "|30.0|      12788.37|              0| 4.31|     10.0|  0.0|[30.0,12788.37,0....|[2.29664306761395...|[0.90859863743362...|       0.0|\n",
      "|31.0|       5387.75|              0| 6.83|      9.0|  0.0|[31.0,5387.75,0.0...|[2.17236509929014...|[0.89774029329668...|       0.0|\n",
      "|31.0|       7073.61|              0| 5.73|      9.0|  0.0|[31.0,7073.61,0.0...|[2.75097368322618...|[0.93996831624962...|       0.0|\n",
      "+----+--------------+---------------+-----+---------+-----+--------------------+--------------------+--------------------+----------+\n",
      "only showing top 20 rows\n",
      "\n"
     ]
    }
   ],
   "source": [
    "\n",
    "logi_reg_summary.predictions.show()"
   ]
  },
  {
   "cell_type": "code",
   "execution_count": 33,
   "metadata": {},
   "outputs": [],
   "source": [
    "results = fit_model.transform(test)"
   ]
  },
  {
   "cell_type": "code",
   "execution_count": 34,
   "metadata": {},
   "outputs": [
    {
     "name": "stdout",
     "output_type": "stream",
     "text": [
      "+----+--------------+---------------+-----+---------+-----+--------------------+--------------------+--------------------+----------+\n",
      "| Age|Total_Purchase|Account_Manager|Years|Num_Sites|Churn|            features|       rawPrediction|         probability|prediction|\n",
      "+----+--------------+---------------+-----+---------+-----+--------------------+--------------------+--------------------+----------+\n",
      "|28.0|       9090.43|              1| 5.74|     10.0|    0|[28.0,9090.43,1.0...|[1.08448876153702...|[0.74734249951792...|       0.0|\n",
      "|28.0|      11245.38|              0| 6.72|      8.0|    0|[28.0,11245.38,0....|[3.46928978743254...|[0.96980122559332...|       0.0|\n",
      "|29.0|       5900.78|              1| 5.56|      8.0|    0|[29.0,5900.78,1.0...|[3.57134702024637...|[0.97265104394519...|       0.0|\n",
      "|29.0|       9378.24|              0| 4.93|      8.0|    0|[29.0,9378.24,0.0...|[4.43635179276735...|[0.98829947200724...|       0.0|\n",
      "|29.0|       9617.59|              0| 5.49|      8.0|    0|[29.0,9617.59,0.0...|[4.12513068119031...|[0.98409565376090...|       0.0|\n",
      "|29.0|      10203.18|              1| 5.82|      8.0|    0|[29.0,10203.18,1....|[3.36324675455360...|[0.96653594963808...|       0.0|\n",
      "|29.0|      11274.46|              1| 4.43|      8.0|    0|[29.0,11274.46,1....|[4.11046899295128...|[0.98386454162761...|       0.0|\n",
      "|30.0|       6744.87|              0| 5.14|      9.0|    0|[30.0,6744.87,0.0...|[3.12448791467643...|[0.95789162183086...|       0.0|\n",
      "|30.0|       7960.64|              1| 2.72|     10.0|    1|[30.0,7960.64,1.0...|[2.67149943175644...|[0.93532379603581...|       0.0|\n",
      "|30.0|       8677.28|              1| 7.31|      7.0|    0|[30.0,8677.28,1.0...|[3.71556063597910...|[0.97623665203026...|       0.0|\n",
      "|30.0|      10183.98|              1| 5.14|      9.0|    0|[30.0,10183.98,1....|[2.50055805453028...|[0.92418093241665...|       0.0|\n",
      "|30.0|      13473.35|              0| 3.84|     10.0|    0|[30.0,13473.35,0....|[2.54440306851608...|[0.92719660680838...|       0.0|\n",
      "|31.0|        5304.6|              0| 5.29|      9.0|    0|[31.0,5304.6,0.0,...|[3.01949628377851...|[0.95344717281360...|       0.0|\n",
      "|32.0|       5756.12|              0|  5.9|      8.0|    0|[32.0,5756.12,0.0...|[3.82515569744503...|[0.97865069714756...|       0.0|\n",
      "|32.0|       8011.38|              0| 5.35|     10.0|    0|[32.0,8011.38,0.0...|[1.70898272446869...|[0.84670429236818...|       0.0|\n",
      "|32.0|       9472.72|              1|  1.0|     10.0|    0|[32.0,9472.72,1.0...|[3.50437280474318...|[0.97081193301152...|       0.0|\n",
      "|32.0|       9885.12|              1| 6.92|      9.0|    1|[32.0,9885.12,1.0...|[1.43848306510067...|[0.80821963546012...|       0.0|\n",
      "|32.0|      11540.86|              0|  3.0|      7.0|    0|[32.0,11540.86,0....|[6.52226230774155...|[0.99853181974501...|       0.0|\n",
      "|32.0|      12254.75|              1| 5.32|      9.0|    0|[32.0,12254.75,1....|[2.28134798647399...|[0.90732046137618...|       0.0|\n",
      "|32.0|       12403.6|              0| 4.99|      7.0|    0|[32.0,12403.6,0.0...|[5.41613082743817...|[0.99557535526615...|       0.0|\n",
      "+----+--------------+---------------+-----+---------+-----+--------------------+--------------------+--------------------+----------+\n",
      "only showing top 20 rows\n",
      "\n"
     ]
    }
   ],
   "source": [
    "results.show()"
   ]
  },
  {
   "cell_type": "code",
   "execution_count": 35,
   "metadata": {},
   "outputs": [],
   "source": [
    "# Evaluation\n",
    "\n",
    "from pyspark.ml.evaluation import BinaryClassificationEvaluator\n",
    "evaluator = BinaryClassificationEvaluator(rawPredictionCol='prediction',\n",
    "                                       labelCol='Churn')"
   ]
  },
  {
   "cell_type": "code",
   "execution_count": 36,
   "metadata": {},
   "outputs": [
    {
     "name": "stdout",
     "output_type": "stream",
     "text": [
      "+-----+----------+\n",
      "|Churn|prediction|\n",
      "+-----+----------+\n",
      "|    0|       0.0|\n",
      "|    0|       0.0|\n",
      "|    0|       0.0|\n",
      "|    0|       0.0|\n",
      "|    0|       0.0|\n",
      "|    0|       0.0|\n",
      "|    0|       0.0|\n",
      "|    0|       0.0|\n",
      "|    1|       0.0|\n",
      "|    0|       0.0|\n",
      "|    0|       0.0|\n",
      "|    0|       0.0|\n",
      "|    0|       0.0|\n",
      "|    0|       0.0|\n",
      "|    0|       0.0|\n",
      "|    0|       0.0|\n",
      "|    1|       0.0|\n",
      "|    0|       0.0|\n",
      "|    0|       0.0|\n",
      "|    0|       0.0|\n",
      "+-----+----------+\n",
      "only showing top 20 rows\n",
      "\n"
     ]
    }
   ],
   "source": [
    "results.select('Churn','prediction').show()"
   ]
  },
  {
   "cell_type": "code",
   "execution_count": 48,
   "metadata": {},
   "outputs": [],
   "source": [
    "# Area under the curve\n",
    "\n",
    "AUC = evaluator.evaluate(results)"
   ]
  },
  {
   "cell_type": "code",
   "execution_count": 49,
   "metadata": {},
   "outputs": [
    {
     "data": {
      "text/plain": [
       "0.806641604010025"
      ]
     },
     "execution_count": 49,
     "metadata": {},
     "output_type": "execute_result"
    }
   ],
   "source": [
    "AUC"
   ]
  },
  {
   "cell_type": "code",
   "execution_count": 52,
   "metadata": {},
   "outputs": [],
   "source": [
    "# Predict on new data!\n",
    "\n",
    "# First, fit pipeline to all data\n",
    "\n",
    "final_lr_model = pipeline.fit(data_fin)"
   ]
  },
  {
   "cell_type": "code",
   "execution_count": 54,
   "metadata": {},
   "outputs": [],
   "source": [
    "new_customers  = spark.read.csv('/home/baxman/Codes/PySpark/Python-and-Spark-for-Big-Data-master/Spark_for_Machine_Learning/Logistic_Regression/new_customers.csv', header = True, inferSchema = True)"
   ]
  },
  {
   "cell_type": "code",
   "execution_count": 55,
   "metadata": {},
   "outputs": [
    {
     "name": "stdout",
     "output_type": "stream",
     "text": [
      "root\n",
      " |-- Names: string (nullable = true)\n",
      " |-- Age: double (nullable = true)\n",
      " |-- Total_Purchase: double (nullable = true)\n",
      " |-- Account_Manager: integer (nullable = true)\n",
      " |-- Years: double (nullable = true)\n",
      " |-- Num_Sites: double (nullable = true)\n",
      " |-- Onboard_date: timestamp (nullable = true)\n",
      " |-- Location: string (nullable = true)\n",
      " |-- Company: string (nullable = true)\n",
      "\n"
     ]
    }
   ],
   "source": [
    "new_customers.printSchema()"
   ]
  },
  {
   "cell_type": "code",
   "execution_count": 58,
   "metadata": {},
   "outputs": [],
   "source": [
    "test_new_customers = assembler.transform(new_customers)"
   ]
  },
  {
   "cell_type": "code",
   "execution_count": 59,
   "metadata": {},
   "outputs": [
    {
     "name": "stdout",
     "output_type": "stream",
     "text": [
      "root\n",
      " |-- Names: string (nullable = true)\n",
      " |-- Age: double (nullable = true)\n",
      " |-- Total_Purchase: double (nullable = true)\n",
      " |-- Account_Manager: integer (nullable = true)\n",
      " |-- Years: double (nullable = true)\n",
      " |-- Num_Sites: double (nullable = true)\n",
      " |-- Onboard_date: timestamp (nullable = true)\n",
      " |-- Location: string (nullable = true)\n",
      " |-- Company: string (nullable = true)\n",
      " |-- features: vector (nullable = true)\n",
      "\n"
     ]
    }
   ],
   "source": [
    "test_new_customers.printSchema()"
   ]
  },
  {
   "cell_type": "code",
   "execution_count": 63,
   "metadata": {},
   "outputs": [],
   "source": [
    "# Assess on new data\n",
    "\n",
    "final_results = final_lr_model.stages[-1].transform(test_new_customers)"
   ]
  },
  {
   "cell_type": "code",
   "execution_count": 67,
   "metadata": {},
   "outputs": [
    {
     "name": "stdout",
     "output_type": "stream",
     "text": [
      "+----------------+----------+\n",
      "|         Company|prediction|\n",
      "+----------------+----------+\n",
      "|        King Ltd|       0.0|\n",
      "|   Cannon-Benson|       1.0|\n",
      "|Barron-Robertson|       1.0|\n",
      "|   Sexton-Golden|       1.0|\n",
      "|        Wood LLC|       0.0|\n",
      "|   Parks-Robbins|       1.0|\n",
      "+----------------+----------+\n",
      "\n"
     ]
    }
   ],
   "source": [
    "# Showing predictions based on companies\n",
    "\n",
    "final_results.select('Company','prediction').show()"
   ]
  },
  {
   "cell_type": "code",
   "execution_count": null,
   "metadata": {},
   "outputs": [],
   "source": []
  }
 ],
 "metadata": {
  "kernelspec": {
   "display_name": "Python 3",
   "language": "python",
   "name": "python3"
  },
  "language_info": {
   "codemirror_mode": {
    "name": "ipython",
    "version": 3
   },
   "file_extension": ".py",
   "mimetype": "text/x-python",
   "name": "python",
   "nbconvert_exporter": "python",
   "pygments_lexer": "ipython3",
   "version": "3.7.3"
  }
 },
 "nbformat": 4,
 "nbformat_minor": 4
}
