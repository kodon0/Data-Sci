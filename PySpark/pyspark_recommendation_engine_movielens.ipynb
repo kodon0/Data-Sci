{
 "cells": [
  {
   "cell_type": "code",
   "execution_count": 3,
   "metadata": {},
   "outputs": [],
   "source": [
    "# Always needs to be done in Rasberry Pi\n",
    "import findspark\n",
    "findspark.init('/home/baxman/spark-2.4.7-bin-hadoop2.7')\n",
    "from pyspark.sql import SparkSession\n",
    "spark = SparkSession.builder.appName('reco').getOrCreate()"
   ]
  },
  {
   "cell_type": "code",
   "execution_count": 4,
   "metadata": {},
   "outputs": [],
   "source": [
    "# Import recomender system from pyspark\n",
    "from pyspark.ml.recommendation import ALS"
   ]
  },
  {
   "cell_type": "code",
   "execution_count": 5,
   "metadata": {},
   "outputs": [],
   "source": [
    "# Evaluate\n",
    "from pyspark.ml.evaluation import RegressionEvaluator"
   ]
  },
  {
   "cell_type": "code",
   "execution_count": 6,
   "metadata": {},
   "outputs": [],
   "source": [
    "# Import data\n",
    "data = spark.read.csv('/home/baxman/Codes/PySpark/Python-and-Spark-for-Big-Data-master/Spark_for_Machine_Learning/Recommender_Systems/movielens_ratings.csv', inferSchema=True,header=True)"
   ]
  },
  {
   "cell_type": "code",
   "execution_count": 7,
   "metadata": {},
   "outputs": [
    {
     "name": "stdout",
     "output_type": "stream",
     "text": [
      "+-------+------+------+\n",
      "|movieId|rating|userId|\n",
      "+-------+------+------+\n",
      "|      2|   3.0|     0|\n",
      "|      3|   1.0|     0|\n",
      "|      5|   2.0|     0|\n",
      "|      9|   4.0|     0|\n",
      "|     11|   1.0|     0|\n",
      "|     12|   2.0|     0|\n",
      "|     15|   1.0|     0|\n",
      "|     17|   1.0|     0|\n",
      "|     19|   1.0|     0|\n",
      "|     21|   1.0|     0|\n",
      "|     23|   1.0|     0|\n",
      "|     26|   3.0|     0|\n",
      "|     27|   1.0|     0|\n",
      "|     28|   1.0|     0|\n",
      "|     29|   1.0|     0|\n",
      "|     30|   1.0|     0|\n",
      "|     31|   1.0|     0|\n",
      "|     34|   1.0|     0|\n",
      "|     37|   1.0|     0|\n",
      "|     41|   2.0|     0|\n",
      "+-------+------+------+\n",
      "only showing top 20 rows\n",
      "\n"
     ]
    }
   ],
   "source": [
    "data.show()"
   ]
  },
  {
   "cell_type": "code",
   "execution_count": 8,
   "metadata": {},
   "outputs": [
    {
     "name": "stdout",
     "output_type": "stream",
     "text": [
      "+-------+------------------+------------------+------------------+\n",
      "|summary|           movieId|            rating|            userId|\n",
      "+-------+------------------+------------------+------------------+\n",
      "|  count|              1501|              1501|              1501|\n",
      "|   mean| 49.40572951365756|1.7741505662891406|14.383744170552964|\n",
      "| stddev|28.937034065088994| 1.187276166124803| 8.591040424293272|\n",
      "|    min|                 0|               1.0|                 0|\n",
      "|    max|                99|               5.0|                29|\n",
      "+-------+------------------+------------------+------------------+\n",
      "\n"
     ]
    }
   ],
   "source": [
    "data.describe().show()"
   ]
  },
  {
   "cell_type": "code",
   "execution_count": 32,
   "metadata": {},
   "outputs": [],
   "source": [
    "# Split into train/test\n",
    "train,test = data.randomSplit([0.7,0.3])"
   ]
  },
  {
   "cell_type": "code",
   "execution_count": 33,
   "metadata": {},
   "outputs": [],
   "source": [
    "# Set up model with following required data\n",
    "als = ALS(maxIter = 5,regParam = 0.01,userCol='userId', itemCol='movieId', ratingCol='rating')"
   ]
  },
  {
   "cell_type": "code",
   "execution_count": 37,
   "metadata": {},
   "outputs": [],
   "source": [
    "model = als.fit(train)"
   ]
  },
  {
   "cell_type": "code",
   "execution_count": 38,
   "metadata": {},
   "outputs": [],
   "source": [
    "predictions = model.transform(test)"
   ]
  },
  {
   "cell_type": "code",
   "execution_count": 39,
   "metadata": {},
   "outputs": [
    {
     "name": "stdout",
     "output_type": "stream",
     "text": [
      "+-------+------+------+-----------+\n",
      "|movieId|rating|userId| prediction|\n",
      "+-------+------+------+-----------+\n",
      "|     31|   1.0|    13|-0.67213863|\n",
      "|     31|   1.0|    19|  2.1562886|\n",
      "|     31|   3.0|    14|  2.0734408|\n",
      "|     85|   1.0|     5|  1.2307732|\n",
      "|     85|   1.0|    25|  2.6448324|\n",
      "|     85|   3.0|    21|-0.13779822|\n",
      "|     65|   1.0|    28|  -2.023874|\n",
      "|     65|   2.0|     5|  0.7804751|\n",
      "|     65|   5.0|    23|  1.6782148|\n",
      "|     53|   3.0|    13|  3.5872848|\n",
      "|     53|   3.0|    20|  1.0536995|\n",
      "|     53|   2.0|    19|   3.728093|\n",
      "|     53|   1.0|     7|  1.4678236|\n",
      "|     53|   1.0|    25|   5.169369|\n",
      "|     78|   1.0|    12|-0.19373994|\n",
      "|     78|   1.0|     1| 0.84418267|\n",
      "|     78|   1.0|    20|  1.0176991|\n",
      "|     34|   1.0|    19| 0.83743197|\n",
      "|     34|   1.0|    17|  1.7910146|\n",
      "|     34|   3.0|    25|-0.67874223|\n",
      "+-------+------+------+-----------+\n",
      "only showing top 20 rows\n",
      "\n"
     ]
    }
   ],
   "source": [
    "# Shwoing predictions\n",
    "predictions.show()"
   ]
  },
  {
   "cell_type": "code",
   "execution_count": 40,
   "metadata": {},
   "outputs": [],
   "source": [
    "# Formal evaluation\n",
    "evaluator = RegressionEvaluator(metricName = 'rmse', labelCol = 'rating', predictionCol = 'prediction')"
   ]
  },
  {
   "cell_type": "code",
   "execution_count": 41,
   "metadata": {},
   "outputs": [],
   "source": [
    "rmse = evaluator.evaluate(predictions)"
   ]
  },
  {
   "cell_type": "code",
   "execution_count": 42,
   "metadata": {},
   "outputs": [
    {
     "name": "stdout",
     "output_type": "stream",
     "text": [
      "RMSE is:  2.1486263891773993\n"
     ]
    }
   ],
   "source": [
    "print(\"RMSE is: \", rmse)"
   ]
  },
  {
   "cell_type": "code",
   "execution_count": 43,
   "metadata": {},
   "outputs": [],
   "source": [
    "# Making this for a single user\n",
    "single_user = test.filter(test['userId']==7).select(['movieId','userId'])"
   ]
  },
  {
   "cell_type": "code",
   "execution_count": 45,
   "metadata": {},
   "outputs": [
    {
     "name": "stdout",
     "output_type": "stream",
     "text": [
      "+-------+------+\n",
      "|movieId|userId|\n",
      "+-------+------+\n",
      "|      2|     7|\n",
      "|      4|     7|\n",
      "|     10|     7|\n",
      "|     14|     7|\n",
      "|     15|     7|\n",
      "|     23|     7|\n",
      "|     26|     7|\n",
      "|     29|     7|\n",
      "|     32|     7|\n",
      "|     42|     7|\n",
      "|     47|     7|\n",
      "|     53|     7|\n",
      "|     62|     7|\n",
      "|     63|     7|\n",
      "|     66|     7|\n",
      "|     76|     7|\n",
      "|     77|     7|\n",
      "|     86|     7|\n",
      "|     92|     7|\n",
      "|     96|     7|\n",
      "+-------+------+\n",
      "only showing top 20 rows\n",
      "\n"
     ]
    }
   ],
   "source": [
    "# All movies user_id = 7 watched\n",
    "single_user.show()"
   ]
  },
  {
   "cell_type": "code",
   "execution_count": 46,
   "metadata": {},
   "outputs": [],
   "source": [
    "# Predict what movie should they watch and what would they rate?\n",
    "recommendations = model.transform(single_user)"
   ]
  },
  {
   "cell_type": "code",
   "execution_count": 49,
   "metadata": {},
   "outputs": [
    {
     "name": "stdout",
     "output_type": "stream",
     "text": [
      "+-------+------+------------+\n",
      "|movieId|userId|  prediction|\n",
      "+-------+------+------------+\n",
      "|     92|     7|  -0.8675993|\n",
      "|     77|     7|-0.087118804|\n",
      "|     76|     7|  0.22567229|\n",
      "|     32|     7|  0.30996495|\n",
      "|     26|     7|  0.34033164|\n",
      "|     23|     7|  0.41439438|\n",
      "|     15|     7|   0.7112619|\n",
      "|     86|     7|  0.78329915|\n",
      "|     10|     7|   1.4308174|\n",
      "|     53|     7|   1.4678236|\n",
      "|     96|     7|    1.855931|\n",
      "|     97|     7|   2.0422788|\n",
      "|      4|     7|   2.0465243|\n",
      "|     66|     7|   2.3279462|\n",
      "|      2|     7|    2.782993|\n",
      "|     14|     7|    2.852174|\n",
      "|     47|     7|   3.0507226|\n",
      "|     42|     7|   3.0746427|\n",
      "|     62|     7|    3.320275|\n",
      "|     63|     7|   3.6766644|\n",
      "+-------+------+------------+\n",
      "only showing top 20 rows\n",
      "\n"
     ]
    }
   ],
   "source": [
    "recommendations.orderBy('prediction').show()"
   ]
  },
  {
   "cell_type": "code",
   "execution_count": null,
   "metadata": {},
   "outputs": [],
   "source": [
    "# So movie_id 63 should be good!"
   ]
  }
 ],
 "metadata": {
  "kernelspec": {
   "display_name": "Python 3",
   "language": "python",
   "name": "python3"
  },
  "language_info": {
   "codemirror_mode": {
    "name": "ipython",
    "version": 3
   },
   "file_extension": ".py",
   "mimetype": "text/x-python",
   "name": "python",
   "nbconvert_exporter": "python",
   "pygments_lexer": "ipython3",
   "version": "3.7.3"
  }
 },
 "nbformat": 4,
 "nbformat_minor": 4
}
