{
 "cells": [
  {
   "cell_type": "code",
   "execution_count": 1,
   "metadata": {},
   "outputs": [],
   "source": [
    "# This notebook uses the MNIST clothing data set to use CNNs - 10 labels for 28x28 grayscale clothing images\n",
    "# The training set of 60,000 images and 10,000 test images"
   ]
  },
  {
   "cell_type": "code",
   "execution_count": 5,
   "metadata": {},
   "outputs": [],
   "source": [
    "import matplotlib.pyplot as plt\n",
    "from keras.datasets import fashion_mnist\n",
    "\n",
    "(x_train, y_train), (x_test, y_test) = fashion_mnist.load_data()"
   ]
  },
  {
   "cell_type": "code",
   "execution_count": 11,
   "metadata": {},
   "outputs": [
    {
     "data": {
      "text/plain": [
       "<matplotlib.image.AxesImage at 0x7f91e7119f90>"
      ]
     },
     "execution_count": 11,
     "metadata": {},
     "output_type": "execute_result"
    },
    {
     "data": {
      "image/png": "[encoded data removed]",
      "text/plain": [
       "<Figure size 432x288 with 1 Axes>"
      ]
     },
     "metadata": {
      "needs_background": "light"
     },
     "output_type": "display_data"
    }
   ],
   "source": [
    "# Looking at an image\n",
    "plt.imshow(x_train[12], cmap = 'gray')"
   ]
  },
  {
   "cell_type": "code",
   "execution_count": 9,
   "metadata": {},
   "outputs": [],
   "source": [
    "# It's a sandal!"
   ]
  },
  {
   "cell_type": "code",
   "execution_count": 12,
   "metadata": {},
   "outputs": [],
   "source": [
    "# Normalising the data range\n",
    "\n",
    "x_train = x_train/x_train.max()\n",
    "x_test = x_test/x_test.max()"
   ]
  },
  {
   "cell_type": "code",
   "execution_count": 25,
   "metadata": {},
   "outputs": [],
   "source": [
    "# Reshape data - 4 channels\n",
    "x_train = x_train.reshape(60000,28,28,1)\n",
    "x_test = x_test.reshape(10000,28,28,1)"
   ]
  },
  {
   "cell_type": "code",
   "execution_count": 26,
   "metadata": {},
   "outputs": [],
   "source": [
    "# One-hot encoding y_train and y_test -> 10 labels\n",
    "\n",
    "from keras.utils.np_utils import to_categorical\n",
    "y_cat_test = to_categorical(y_test,10)\n",
    "y_cat_train = to_categorical(y_train,10)"
   ]
  },
  {
   "cell_type": "code",
   "execution_count": 27,
   "metadata": {},
   "outputs": [],
   "source": [
    "# Building the model\n",
    "\n",
    "from keras.models import Sequential\n",
    "from keras.layers import Dense, Conv2D, MaxPool2D, Flatten"
   ]
  },
  {
   "cell_type": "code",
   "execution_count": 28,
   "metadata": {},
   "outputs": [
    {
     "name": "stdout",
     "output_type": "stream",
     "text": [
      "Model: \"sequential_4\"\n",
      "_________________________________________________________________\n",
      "Layer (type)                 Output Shape              Param #   \n",
      "=================================================================\n",
      "conv2d_4 (Conv2D)            (None, 25, 25, 32)        544       \n",
      "_________________________________________________________________\n",
      "max_pooling2d_4 (MaxPooling2 (None, 12, 12, 32)        0         \n",
      "_________________________________________________________________\n",
      "flatten_4 (Flatten)          (None, 4608)              0         \n",
      "_________________________________________________________________\n",
      "dense_7 (Dense)              (None, 128)               589952    \n",
      "_________________________________________________________________\n",
      "dense_8 (Dense)              (None, 10)                1290      \n",
      "=================================================================\n",
      "Total params: 591,786\n",
      "Trainable params: 591,786\n",
      "Non-trainable params: 0\n",
      "_________________________________________________________________\n"
     ]
    }
   ],
   "source": [
    "# Model defintion\n",
    "\n",
    "model = Sequential()\n",
    "# Conv layer\n",
    "model.add(Conv2D(filters=32, kernel_size = (4,4),input_shape=(28,28,1), activation = 'relu'))\n",
    "# Pooling layer\n",
    "model.add(MaxPool2D(pool_size=(2,2)))\n",
    "# Flatten 2D to 1D\n",
    "model.add(Flatten())\n",
    "# Dense layer\n",
    "model.add(Dense(128,activation='relu'))\n",
    "# Output classifier\n",
    "model.add(Dense(10,activation='softmax'))\n",
    "# Compile\n",
    "model.compile(loss='categorical_crossentropy',\n",
    "             optimizer ='rmsprop',\n",
    "             metrics=['accuracy'])\n",
    "model.summary()"
   ]
  },
  {
   "cell_type": "code",
   "execution_count": 29,
   "metadata": {},
   "outputs": [
    {
     "name": "stdout",
     "output_type": "stream",
     "text": [
      "Epoch 1/20\n",
      "60000/60000 [==============================] - 35s 584us/step - loss: 0.3933 - accuracy: 0.8610\n",
      "Epoch 2/20\n",
      "60000/60000 [==============================] - 33s 545us/step - loss: 0.2775 - accuracy: 0.9003\n",
      "Epoch 3/20\n",
      "60000/60000 [==============================] - 33s 558us/step - loss: 0.2396 - accuracy: 0.9133\n",
      "Epoch 4/20\n",
      "60000/60000 [==============================] - 32s 540us/step - loss: 0.2164 - accuracy: 0.9231\n",
      "Epoch 5/20\n",
      "60000/60000 [==============================] - 25s 419us/step - loss: 0.1992 - accuracy: 0.9295\n",
      "Epoch 6/20\n",
      "60000/60000 [==============================] - 27s 456us/step - loss: 0.1848 - accuracy: 0.9343\n",
      "Epoch 7/20\n",
      "60000/60000 [==============================] - 28s 472us/step - loss: 0.1734 - accuracy: 0.9384\n",
      "Epoch 8/20\n",
      "60000/60000 [==============================] - 27s 451us/step - loss: 0.1635 - accuracy: 0.9428\n",
      "Epoch 9/20\n",
      "60000/60000 [==============================] - 31s 517us/step - loss: 0.1536 - accuracy: 0.9454\n",
      "Epoch 10/20\n",
      "60000/60000 [==============================] - 26s 429us/step - loss: 0.1465 - accuracy: 0.9481\n",
      "Epoch 11/20\n",
      "60000/60000 [==============================] - 29s 491us/step - loss: 0.1387 - accuracy: 0.9510\n",
      "Epoch 12/20\n",
      "60000/60000 [==============================] - 27s 457us/step - loss: 0.1310 - accuracy: 0.9543\n",
      "Epoch 13/20\n",
      "60000/60000 [==============================] - 27s 457us/step - loss: 0.1243 - accuracy: 0.9564\n",
      "Epoch 14/20\n",
      "60000/60000 [==============================] - 27s 444us/step - loss: 0.1172 - accuracy: 0.9592\n",
      "Epoch 15/20\n",
      "60000/60000 [==============================] - 26s 439us/step - loss: 0.1112 - accuracy: 0.9628\n",
      "Epoch 16/20\n",
      "60000/60000 [==============================] - 26s 427us/step - loss: 0.1064 - accuracy: 0.9635\n",
      "Epoch 17/20\n",
      "60000/60000 [==============================] - 29s 482us/step - loss: 0.0996 - accuracy: 0.9661\n",
      "Epoch 18/20\n",
      "60000/60000 [==============================] - 26s 441us/step - loss: 0.0949 - accuracy: 0.9678\n",
      "Epoch 19/20\n",
      "60000/60000 [==============================] - 27s 445us/step - loss: 0.0908 - accuracy: 0.9685\n",
      "Epoch 20/20\n",
      "60000/60000 [==============================] - 27s 458us/step - loss: 0.0855 - accuracy: 0.9710\n"
     ]
    },
    {
     "data": {
      "text/plain": [
       "<keras.callbacks.callbacks.History at 0x7f91e09daa50>"
      ]
     },
     "execution_count": 29,
     "metadata": {},
     "output_type": "execute_result"
    }
   ],
   "source": [
    "# Training the model\n",
    "\n",
    "model.fit(x_train,y_cat_train, epochs = 20)"
   ]
  },
  {
   "cell_type": "code",
   "execution_count": 30,
   "metadata": {},
   "outputs": [
    {
     "name": "stdout",
     "output_type": "stream",
     "text": [
      "10000/10000 [==============================] - 1s 119us/step\n",
      "[0.4765019508481026, 0.9028000235557556]\n"
     ]
    }
   ],
   "source": [
    "# Evaluating the model\n",
    "\n",
    "model.metrics_names\n",
    "print(model.evaluate(x_test,y_cat_test))\n",
    "from sklearn.metrics import classification_report"
   ]
  },
  {
   "cell_type": "code",
   "execution_count": 31,
   "metadata": {},
   "outputs": [],
   "source": [
    "pred = model.predict_classes(x_test)"
   ]
  },
  {
   "cell_type": "code",
   "execution_count": 32,
   "metadata": {},
   "outputs": [
    {
     "name": "stdout",
     "output_type": "stream",
     "text": [
      "              precision    recall  f1-score   support\n",
      "\n",
      "           0       0.84      0.87      0.85      1000\n",
      "           1       0.98      0.98      0.98      1000\n",
      "           2       0.82      0.88      0.85      1000\n",
      "           3       0.91      0.91      0.91      1000\n",
      "           4       0.83      0.83      0.83      1000\n",
      "           5       0.98      0.96      0.97      1000\n",
      "           6       0.78      0.68      0.73      1000\n",
      "           7       0.95      0.97      0.96      1000\n",
      "           8       0.97      0.97      0.97      1000\n",
      "           9       0.96      0.97      0.96      1000\n",
      "\n",
      "    accuracy                           0.90     10000\n",
      "   macro avg       0.90      0.90      0.90     10000\n",
      "weighted avg       0.90      0.90      0.90     10000\n",
      "\n"
     ]
    }
   ],
   "source": [
    "print(classification_report(y_test,pred))"
   ]
  },
  {
   "cell_type": "code",
   "execution_count": null,
   "metadata": {},
   "outputs": [],
   "source": []
  }
 ],
 "metadata": {
  "kernelspec": {
   "display_name": "Python 3",
   "language": "python",
   "name": "python3"
  },
  "language_info": {
   "codemirror_mode": {
    "name": "ipython",
    "version": 3
   },
   "file_extension": ".py",
   "mimetype": "text/x-python",
   "name": "python",
   "nbconvert_exporter": "python",
   "pygments_lexer": "ipython3",
   "version": "3.7.7"
  }
 },
 "nbformat": 4,
 "nbformat_minor": 4
}
