{
 "cells": [
  {
   "cell_type": "code",
   "execution_count": 104,
   "metadata": {},
   "outputs": [],
   "source": [
    "# TensorFlow and tf.keras\n",
    "import tensorflow as tf\n",
    "from tensorflow import keras\n",
    "\n",
    "# Helper libraries\n",
    "import numpy as np\n",
    "import matplotlib.pyplot as plt\n",
    "from sklearn.datasets import load_breast_cancer"
   ]
  },
  {
   "cell_type": "code",
   "execution_count": 105,
   "metadata": {},
   "outputs": [],
   "source": [
    "data = load_breast_cancer()"
   ]
  },
  {
   "cell_type": "code",
   "execution_count": 106,
   "metadata": {},
   "outputs": [
    {
     "data": {
      "text/plain": [
       "dict_keys(['data', 'target', 'target_names', 'DESCR', 'feature_names', 'filename'])"
      ]
     },
     "execution_count": 106,
     "metadata": {},
     "output_type": "execute_result"
    }
   ],
   "source": [
    "data.keys()"
   ]
  },
  {
   "cell_type": "code",
   "execution_count": 107,
   "metadata": {},
   "outputs": [
    {
     "data": {
      "text/plain": [
       "array(['malignant', 'benign'], dtype='<U9')"
      ]
     },
     "execution_count": 107,
     "metadata": {},
     "output_type": "execute_result"
    }
   ],
   "source": [
    "data.target_names"
   ]
  },
  {
   "cell_type": "code",
   "execution_count": 108,
   "metadata": {},
   "outputs": [
    {
     "data": {
      "text/plain": [
       "array([0, 0, 0, 0, 0, 0, 0, 0, 0, 0, 0, 0, 0, 0, 0, 0, 0, 0, 0, 1, 1, 1,\n",
       "       0, 0, 0, 0, 0, 0, 0, 0, 0, 0, 0, 0, 0, 0, 0, 1, 0, 0, 0, 0, 0, 0,\n",
       "       0, 0, 1, 0, 1, 1, 1, 1, 1, 0, 0, 1, 0, 0, 1, 1, 1, 1, 0, 1, 0, 0,\n",
       "       1, 1, 1, 1, 0, 1, 0, 0, 1, 0, 1, 0, 0, 1, 1, 1, 0, 0, 1, 0, 0, 0,\n",
       "       1, 1, 1, 0, 1, 1, 0, 0, 1, 1, 1, 0, 0, 1, 1, 1, 1, 0, 1, 1, 0, 1,\n",
       "       1, 1, 1, 1, 1, 1, 1, 0, 0, 0, 1, 0, 0, 1, 1, 1, 0, 0, 1, 0, 1, 0,\n",
       "       0, 1, 0, 0, 1, 1, 0, 1, 1, 0, 1, 1, 1, 1, 0, 1, 1, 1, 1, 1, 1, 1,\n",
       "       1, 1, 0, 1, 1, 1, 1, 0, 0, 1, 0, 1, 1, 0, 0, 1, 1, 0, 0, 1, 1, 1,\n",
       "       1, 0, 1, 1, 0, 0, 0, 1, 0, 1, 0, 1, 1, 1, 0, 1, 1, 0, 0, 1, 0, 0,\n",
       "       0, 0, 1, 0, 0, 0, 1, 0, 1, 0, 1, 1, 0, 1, 0, 0, 0, 0, 1, 1, 0, 0,\n",
       "       1, 1, 1, 0, 1, 1, 1, 1, 1, 0, 0, 1, 1, 0, 1, 1, 0, 0, 1, 0, 1, 1,\n",
       "       1, 1, 0, 1, 1, 1, 1, 1, 0, 1, 0, 0, 0, 0, 0, 0, 0, 0, 0, 0, 0, 0,\n",
       "       0, 0, 1, 1, 1, 1, 1, 1, 0, 1, 0, 1, 1, 0, 1, 1, 0, 1, 0, 0, 1, 1,\n",
       "       1, 1, 1, 1, 1, 1, 1, 1, 1, 1, 1, 0, 1, 1, 0, 1, 0, 1, 1, 1, 1, 1,\n",
       "       1, 1, 1, 1, 1, 1, 1, 1, 1, 0, 1, 1, 1, 0, 1, 0, 1, 1, 1, 1, 0, 0,\n",
       "       0, 1, 1, 1, 1, 0, 1, 0, 1, 0, 1, 1, 1, 0, 1, 1, 1, 1, 1, 1, 1, 0,\n",
       "       0, 0, 1, 1, 1, 1, 1, 1, 1, 1, 1, 1, 1, 0, 0, 1, 0, 0, 0, 1, 0, 0,\n",
       "       1, 1, 1, 1, 1, 0, 1, 1, 1, 1, 1, 0, 1, 1, 1, 0, 1, 1, 0, 0, 1, 1,\n",
       "       1, 1, 1, 1, 0, 1, 1, 1, 1, 1, 1, 1, 0, 1, 1, 1, 1, 1, 0, 1, 1, 0,\n",
       "       1, 1, 1, 1, 1, 1, 1, 1, 1, 1, 1, 1, 0, 1, 0, 0, 1, 0, 1, 1, 1, 1,\n",
       "       1, 0, 1, 1, 0, 1, 0, 1, 1, 0, 1, 0, 1, 1, 1, 1, 1, 1, 1, 1, 0, 0,\n",
       "       1, 1, 1, 1, 1, 1, 0, 1, 1, 1, 1, 1, 1, 1, 1, 1, 1, 0, 1, 1, 1, 1,\n",
       "       1, 1, 1, 0, 1, 0, 1, 1, 0, 1, 1, 1, 1, 1, 0, 0, 1, 0, 1, 0, 1, 1,\n",
       "       1, 1, 1, 0, 1, 1, 0, 1, 0, 1, 0, 0, 1, 1, 1, 0, 1, 1, 1, 1, 1, 1,\n",
       "       1, 1, 1, 1, 1, 0, 1, 0, 0, 1, 1, 1, 1, 1, 1, 1, 1, 1, 1, 1, 1, 1,\n",
       "       1, 1, 1, 1, 1, 1, 1, 1, 1, 1, 1, 1, 0, 0, 0, 0, 0, 0, 1])"
      ]
     },
     "execution_count": 108,
     "metadata": {},
     "output_type": "execute_result"
    }
   ],
   "source": [
    "data.target"
   ]
  },
  {
   "cell_type": "code",
   "execution_count": 109,
   "metadata": {},
   "outputs": [
    {
     "data": {
      "text/plain": [
       "(569, 30)"
      ]
     },
     "execution_count": 109,
     "metadata": {},
     "output_type": "execute_result"
    }
   ],
   "source": [
    "data.data.shape"
   ]
  },
  {
   "cell_type": "code",
   "execution_count": 110,
   "metadata": {},
   "outputs": [
    {
     "data": {
      "text/plain": [
       "(569,)"
      ]
     },
     "execution_count": 110,
     "metadata": {},
     "output_type": "execute_result"
    }
   ],
   "source": [
    "data.target.shape"
   ]
  },
  {
   "cell_type": "code",
   "execution_count": 111,
   "metadata": {},
   "outputs": [],
   "source": [
    "from sklearn.model_selection import train_test_split"
   ]
  },
  {
   "cell_type": "code",
   "execution_count": 112,
   "metadata": {},
   "outputs": [],
   "source": [
    "X = data.data\n",
    "y = data.target"
   ]
  },
  {
   "cell_type": "code",
   "execution_count": 113,
   "metadata": {},
   "outputs": [
    {
     "data": {
      "text/plain": [
       "array([0, 0, 0, 0, 0, 0, 0, 0, 0, 0, 0, 0, 0, 0, 0, 0, 0, 0, 0, 1, 1, 1,\n",
       "       0, 0, 0, 0, 0, 0, 0, 0, 0, 0, 0, 0, 0, 0, 0, 1, 0, 0, 0, 0, 0, 0,\n",
       "       0, 0, 1, 0, 1, 1, 1, 1, 1, 0, 0, 1, 0, 0, 1, 1, 1, 1, 0, 1, 0, 0,\n",
       "       1, 1, 1, 1, 0, 1, 0, 0, 1, 0, 1, 0, 0, 1, 1, 1, 0, 0, 1, 0, 0, 0,\n",
       "       1, 1, 1, 0, 1, 1, 0, 0, 1, 1, 1, 0, 0, 1, 1, 1, 1, 0, 1, 1, 0, 1,\n",
       "       1, 1, 1, 1, 1, 1, 1, 0, 0, 0, 1, 0, 0, 1, 1, 1, 0, 0, 1, 0, 1, 0,\n",
       "       0, 1, 0, 0, 1, 1, 0, 1, 1, 0, 1, 1, 1, 1, 0, 1, 1, 1, 1, 1, 1, 1,\n",
       "       1, 1, 0, 1, 1, 1, 1, 0, 0, 1, 0, 1, 1, 0, 0, 1, 1, 0, 0, 1, 1, 1,\n",
       "       1, 0, 1, 1, 0, 0, 0, 1, 0, 1, 0, 1, 1, 1, 0, 1, 1, 0, 0, 1, 0, 0,\n",
       "       0, 0, 1, 0, 0, 0, 1, 0, 1, 0, 1, 1, 0, 1, 0, 0, 0, 0, 1, 1, 0, 0,\n",
       "       1, 1, 1, 0, 1, 1, 1, 1, 1, 0, 0, 1, 1, 0, 1, 1, 0, 0, 1, 0, 1, 1,\n",
       "       1, 1, 0, 1, 1, 1, 1, 1, 0, 1, 0, 0, 0, 0, 0, 0, 0, 0, 0, 0, 0, 0,\n",
       "       0, 0, 1, 1, 1, 1, 1, 1, 0, 1, 0, 1, 1, 0, 1, 1, 0, 1, 0, 0, 1, 1,\n",
       "       1, 1, 1, 1, 1, 1, 1, 1, 1, 1, 1, 0, 1, 1, 0, 1, 0, 1, 1, 1, 1, 1,\n",
       "       1, 1, 1, 1, 1, 1, 1, 1, 1, 0, 1, 1, 1, 0, 1, 0, 1, 1, 1, 1, 0, 0,\n",
       "       0, 1, 1, 1, 1, 0, 1, 0, 1, 0, 1, 1, 1, 0, 1, 1, 1, 1, 1, 1, 1, 0,\n",
       "       0, 0, 1, 1, 1, 1, 1, 1, 1, 1, 1, 1, 1, 0, 0, 1, 0, 0, 0, 1, 0, 0,\n",
       "       1, 1, 1, 1, 1, 0, 1, 1, 1, 1, 1, 0, 1, 1, 1, 0, 1, 1, 0, 0, 1, 1,\n",
       "       1, 1, 1, 1, 0, 1, 1, 1, 1, 1, 1, 1, 0, 1, 1, 1, 1, 1, 0, 1, 1, 0,\n",
       "       1, 1, 1, 1, 1, 1, 1, 1, 1, 1, 1, 1, 0, 1, 0, 0, 1, 0, 1, 1, 1, 1,\n",
       "       1, 0, 1, 1, 0, 1, 0, 1, 1, 0, 1, 0, 1, 1, 1, 1, 1, 1, 1, 1, 0, 0,\n",
       "       1, 1, 1, 1, 1, 1, 0, 1, 1, 1, 1, 1, 1, 1, 1, 1, 1, 0, 1, 1, 1, 1,\n",
       "       1, 1, 1, 0, 1, 0, 1, 1, 0, 1, 1, 1, 1, 1, 0, 0, 1, 0, 1, 0, 1, 1,\n",
       "       1, 1, 1, 0, 1, 1, 0, 1, 0, 1, 0, 0, 1, 1, 1, 0, 1, 1, 1, 1, 1, 1,\n",
       "       1, 1, 1, 1, 1, 0, 1, 0, 0, 1, 1, 1, 1, 1, 1, 1, 1, 1, 1, 1, 1, 1,\n",
       "       1, 1, 1, 1, 1, 1, 1, 1, 1, 1, 1, 1, 0, 0, 0, 0, 0, 0, 1])"
      ]
     },
     "execution_count": 113,
     "metadata": {},
     "output_type": "execute_result"
    }
   ],
   "source": [
    "y"
   ]
  },
  {
   "cell_type": "code",
   "execution_count": 116,
   "metadata": {},
   "outputs": [],
   "source": [
    "X_train, X_test, y_train, y_test = train_test_split(X, y, test_size=0.33, random_state=42)"
   ]
  },
  {
   "cell_type": "code",
   "execution_count": 117,
   "metadata": {},
   "outputs": [
    {
     "data": {
      "text/plain": [
       "array([[1.247e+01, 1.860e+01, 8.109e+01, ..., 1.015e-01, 3.014e-01,\n",
       "        8.750e-02],\n",
       "       [1.894e+01, 2.131e+01, 1.236e+02, ..., 1.789e-01, 2.551e-01,\n",
       "        6.589e-02],\n",
       "       [1.546e+01, 1.948e+01, 1.017e+02, ..., 1.514e-01, 2.837e-01,\n",
       "        8.019e-02],\n",
       "       ...,\n",
       "       [1.371e+01, 2.083e+01, 9.020e+01, ..., 1.556e-01, 3.196e-01,\n",
       "        1.151e-01],\n",
       "       [1.447e+01, 2.499e+01, 9.581e+01, ..., 1.205e-01, 3.187e-01,\n",
       "        1.023e-01],\n",
       "       [1.354e+01, 1.436e+01, 8.746e+01, ..., 1.288e-01, 2.977e-01,\n",
       "        7.259e-02]])"
      ]
     },
     "execution_count": 117,
     "metadata": {},
     "output_type": "execute_result"
    }
   ],
   "source": [
    "X_test"
   ]
  },
  {
   "cell_type": "code",
   "execution_count": 118,
   "metadata": {},
   "outputs": [],
   "source": [
    "from sklearn.preprocessing import StandardScaler\n",
    "sc = StandardScaler()\n",
    "X_train = sc.fit_transform(X_train)\n",
    "X_test = sc.transform(X_test)"
   ]
  },
  {
   "cell_type": "code",
   "execution_count": 163,
   "metadata": {},
   "outputs": [
    {
     "name": "stdout",
     "output_type": "stream",
     "text": [
      "Model: \"sequential_23\"\n",
      "_________________________________________________________________\n",
      "Layer (type)                 Output Shape              Param #   \n",
      "=================================================================\n",
      "dense_19 (Dense)             (None, 381, 1)            31        \n",
      "=================================================================\n",
      "Total params: 31\n",
      "Trainable params: 31\n",
      "Non-trainable params: 0\n",
      "_________________________________________________________________\n"
     ]
    }
   ],
   "source": [
    "# Build using TFlow\n",
    "\n",
    "model = tf.keras.models.Sequential()\n",
    "model.add(tf.keras.layers.Dense(units = 1, input_shape = X_train.shape, activation = 'sigmoid'))\n",
    "model.compile(optimizer = 'adam', metrics = ['accuracy'],loss = 'binary_crossentropy')\n",
    "\n",
    "model.summary()\n"
   ]
  },
  {
   "cell_type": "code",
   "execution_count": 164,
   "metadata": {},
   "outputs": [
    {
     "name": "stdout",
     "output_type": "stream",
     "text": [
      "Epoch 1/200\n",
      "WARNING:tensorflow:Model was constructed with shape (None, 381, 30) for input Tensor(\"dense_19_input:0\", shape=(None, 381, 30), dtype=float32), but it was called on an input with incompatible shape (None, 30).\n",
      "WARNING:tensorflow:Model was constructed with shape (None, 381, 30) for input Tensor(\"dense_19_input:0\", shape=(None, 381, 30), dtype=float32), but it was called on an input with incompatible shape (None, 30).\n",
      " 1/12 [=>............................] - ETA: 0s - loss: 0.5703 - accuracy: 0.6562WARNING:tensorflow:Model was constructed with shape (None, 381, 30) for input Tensor(\"dense_19_input:0\", shape=(None, 381, 30), dtype=float32), but it was called on an input with incompatible shape (None, 30).\n",
      "12/12 [==============================] - 0s 14ms/step - loss: 0.6383 - accuracy: 0.6614 - val_loss: 0.6103 - val_accuracy: 0.6277\n",
      "Epoch 2/200\n",
      "12/12 [==============================] - 0s 8ms/step - loss: 0.5725 - accuracy: 0.7270 - val_loss: 0.5506 - val_accuracy: 0.7340\n",
      "Epoch 3/200\n",
      "12/12 [==============================] - 0s 8ms/step - loss: 0.5180 - accuracy: 0.7743 - val_loss: 0.5000 - val_accuracy: 0.7872\n",
      "Epoch 4/200\n",
      "12/12 [==============================] - 0s 8ms/step - loss: 0.4706 - accuracy: 0.7979 - val_loss: 0.4591 - val_accuracy: 0.8351\n",
      "Epoch 5/200\n",
      "12/12 [==============================] - 0s 5ms/step - loss: 0.4341 - accuracy: 0.8373 - val_loss: 0.4240 - val_accuracy: 0.8670\n",
      "Epoch 6/200\n",
      "12/12 [==============================] - 0s 6ms/step - loss: 0.4015 - accuracy: 0.8609 - val_loss: 0.3957 - val_accuracy: 0.8883\n",
      "Epoch 7/200\n",
      "12/12 [==============================] - 0s 6ms/step - loss: 0.3750 - accuracy: 0.8845 - val_loss: 0.3717 - val_accuracy: 0.8936\n",
      "Epoch 8/200\n",
      "12/12 [==============================] - 0s 6ms/step - loss: 0.3526 - accuracy: 0.8924 - val_loss: 0.3512 - val_accuracy: 0.8936\n",
      "Epoch 9/200\n",
      "12/12 [==============================] - 0s 6ms/step - loss: 0.3332 - accuracy: 0.8950 - val_loss: 0.3335 - val_accuracy: 0.9043\n",
      "Epoch 10/200\n",
      "12/12 [==============================] - 0s 6ms/step - loss: 0.3164 - accuracy: 0.8924 - val_loss: 0.3178 - val_accuracy: 0.9202\n",
      "Epoch 11/200\n",
      "12/12 [==============================] - 0s 6ms/step - loss: 0.3013 - accuracy: 0.9003 - val_loss: 0.3045 - val_accuracy: 0.9255\n",
      "Epoch 12/200\n",
      "12/12 [==============================] - 0s 6ms/step - loss: 0.2882 - accuracy: 0.9081 - val_loss: 0.2924 - val_accuracy: 0.9255\n",
      "Epoch 13/200\n",
      "12/12 [==============================] - 0s 10ms/step - loss: 0.2768 - accuracy: 0.9081 - val_loss: 0.2812 - val_accuracy: 0.9202\n",
      "Epoch 14/200\n",
      "12/12 [==============================] - 0s 12ms/step - loss: 0.2660 - accuracy: 0.9186 - val_loss: 0.2714 - val_accuracy: 0.9255\n",
      "Epoch 15/200\n",
      "12/12 [==============================] - 0s 10ms/step - loss: 0.2566 - accuracy: 0.9213 - val_loss: 0.2624 - val_accuracy: 0.9309\n",
      "Epoch 16/200\n",
      "12/12 [==============================] - 0s 7ms/step - loss: 0.2480 - accuracy: 0.9291 - val_loss: 0.2542 - val_accuracy: 0.9309\n",
      "Epoch 17/200\n",
      "12/12 [==============================] - 0s 6ms/step - loss: 0.2400 - accuracy: 0.9291 - val_loss: 0.2468 - val_accuracy: 0.9309\n",
      "Epoch 18/200\n",
      "12/12 [==============================] - 0s 6ms/step - loss: 0.2330 - accuracy: 0.9318 - val_loss: 0.2398 - val_accuracy: 0.9309\n",
      "Epoch 19/200\n",
      "12/12 [==============================] - 0s 6ms/step - loss: 0.2264 - accuracy: 0.9344 - val_loss: 0.2333 - val_accuracy: 0.9309\n",
      "Epoch 20/200\n",
      "12/12 [==============================] - 0s 8ms/step - loss: 0.2202 - accuracy: 0.9396 - val_loss: 0.2272 - val_accuracy: 0.9362\n",
      "Epoch 21/200\n",
      "12/12 [==============================] - 0s 6ms/step - loss: 0.2145 - accuracy: 0.9423 - val_loss: 0.2216 - val_accuracy: 0.9362\n",
      "Epoch 22/200\n",
      "12/12 [==============================] - 0s 6ms/step - loss: 0.2091 - accuracy: 0.9449 - val_loss: 0.2165 - val_accuracy: 0.9362\n",
      "Epoch 23/200\n",
      "12/12 [==============================] - 0s 8ms/step - loss: 0.2044 - accuracy: 0.9501 - val_loss: 0.2114 - val_accuracy: 0.9362\n",
      "Epoch 24/200\n",
      "12/12 [==============================] - 0s 6ms/step - loss: 0.1996 - accuracy: 0.9554 - val_loss: 0.2068 - val_accuracy: 0.9415\n",
      "Epoch 25/200\n",
      "12/12 [==============================] - 0s 7ms/step - loss: 0.1953 - accuracy: 0.9554 - val_loss: 0.2025 - val_accuracy: 0.9415\n",
      "Epoch 26/200\n",
      "12/12 [==============================] - 0s 9ms/step - loss: 0.1912 - accuracy: 0.9580 - val_loss: 0.1983 - val_accuracy: 0.9415\n",
      "Epoch 27/200\n",
      "12/12 [==============================] - 0s 8ms/step - loss: 0.1875 - accuracy: 0.9580 - val_loss: 0.1943 - val_accuracy: 0.9468\n",
      "Epoch 28/200\n",
      "12/12 [==============================] - 0s 6ms/step - loss: 0.1837 - accuracy: 0.9606 - val_loss: 0.1907 - val_accuracy: 0.9521\n",
      "Epoch 29/200\n",
      "12/12 [==============================] - 0s 7ms/step - loss: 0.1803 - accuracy: 0.9606 - val_loss: 0.1872 - val_accuracy: 0.9521\n",
      "Epoch 30/200\n",
      "12/12 [==============================] - 0s 8ms/step - loss: 0.1771 - accuracy: 0.9633 - val_loss: 0.1838 - val_accuracy: 0.9521\n",
      "Epoch 31/200\n",
      "12/12 [==============================] - 0s 7ms/step - loss: 0.1740 - accuracy: 0.9633 - val_loss: 0.1806 - val_accuracy: 0.9521\n",
      "Epoch 32/200\n",
      "12/12 [==============================] - 0s 8ms/step - loss: 0.1711 - accuracy: 0.9633 - val_loss: 0.1776 - val_accuracy: 0.9521\n",
      "Epoch 33/200\n",
      "12/12 [==============================] - 0s 13ms/step - loss: 0.1683 - accuracy: 0.9659 - val_loss: 0.1747 - val_accuracy: 0.9521\n",
      "Epoch 34/200\n",
      "12/12 [==============================] - 0s 8ms/step - loss: 0.1657 - accuracy: 0.9659 - val_loss: 0.1718 - val_accuracy: 0.9521\n",
      "Epoch 35/200\n",
      "12/12 [==============================] - 0s 9ms/step - loss: 0.1631 - accuracy: 0.9685 - val_loss: 0.1690 - val_accuracy: 0.9521\n",
      "Epoch 36/200\n",
      "12/12 [==============================] - 0s 9ms/step - loss: 0.1607 - accuracy: 0.9685 - val_loss: 0.1665 - val_accuracy: 0.9521\n",
      "Epoch 37/200\n",
      "12/12 [==============================] - 0s 7ms/step - loss: 0.1584 - accuracy: 0.9685 - val_loss: 0.1640 - val_accuracy: 0.9521\n",
      "Epoch 38/200\n",
      "12/12 [==============================] - 0s 8ms/step - loss: 0.1562 - accuracy: 0.9685 - val_loss: 0.1616 - val_accuracy: 0.9521\n",
      "Epoch 39/200\n",
      "12/12 [==============================] - 0s 8ms/step - loss: 0.1541 - accuracy: 0.9685 - val_loss: 0.1593 - val_accuracy: 0.9521\n",
      "Epoch 40/200\n",
      "12/12 [==============================] - 0s 6ms/step - loss: 0.1520 - accuracy: 0.9685 - val_loss: 0.1571 - val_accuracy: 0.9521\n",
      "Epoch 41/200\n",
      "12/12 [==============================] - 0s 6ms/step - loss: 0.1501 - accuracy: 0.9685 - val_loss: 0.1550 - val_accuracy: 0.9521\n",
      "Epoch 42/200\n",
      "12/12 [==============================] - 0s 6ms/step - loss: 0.1483 - accuracy: 0.9685 - val_loss: 0.1529 - val_accuracy: 0.9521\n",
      "Epoch 43/200\n",
      "12/12 [==============================] - 0s 5ms/step - loss: 0.1464 - accuracy: 0.9685 - val_loss: 0.1509 - val_accuracy: 0.9574\n",
      "Epoch 44/200\n",
      "12/12 [==============================] - 0s 5ms/step - loss: 0.1447 - accuracy: 0.9685 - val_loss: 0.1490 - val_accuracy: 0.9574\n",
      "Epoch 45/200\n",
      "12/12 [==============================] - 0s 5ms/step - loss: 0.1431 - accuracy: 0.9685 - val_loss: 0.1471 - val_accuracy: 0.9574\n",
      "Epoch 46/200\n",
      "12/12 [==============================] - 0s 5ms/step - loss: 0.1414 - accuracy: 0.9685 - val_loss: 0.1454 - val_accuracy: 0.9574\n",
      "Epoch 47/200\n",
      "12/12 [==============================] - 0s 5ms/step - loss: 0.1399 - accuracy: 0.9685 - val_loss: 0.1436 - val_accuracy: 0.9574\n",
      "Epoch 48/200\n",
      "12/12 [==============================] - 0s 5ms/step - loss: 0.1384 - accuracy: 0.9685 - val_loss: 0.1419 - val_accuracy: 0.9574\n",
      "Epoch 49/200\n",
      "12/12 [==============================] - 0s 5ms/step - loss: 0.1369 - accuracy: 0.9685 - val_loss: 0.1404 - val_accuracy: 0.9574\n",
      "Epoch 50/200\n",
      "12/12 [==============================] - 0s 5ms/step - loss: 0.1356 - accuracy: 0.9685 - val_loss: 0.1387 - val_accuracy: 0.9628\n",
      "Epoch 51/200\n",
      "12/12 [==============================] - 0s 7ms/step - loss: 0.1342 - accuracy: 0.9685 - val_loss: 0.1373 - val_accuracy: 0.9628\n",
      "Epoch 52/200\n",
      "12/12 [==============================] - 0s 6ms/step - loss: 0.1329 - accuracy: 0.9685 - val_loss: 0.1358 - val_accuracy: 0.9628\n",
      "Epoch 53/200\n",
      "12/12 [==============================] - 0s 5ms/step - loss: 0.1316 - accuracy: 0.9685 - val_loss: 0.1343 - val_accuracy: 0.9628\n"
     ]
    },
    {
     "name": "stdout",
     "output_type": "stream",
     "text": [
      "Epoch 54/200\n",
      "12/12 [==============================] - 0s 6ms/step - loss: 0.1304 - accuracy: 0.9685 - val_loss: 0.1330 - val_accuracy: 0.9628\n",
      "Epoch 55/200\n",
      "12/12 [==============================] - 0s 5ms/step - loss: 0.1293 - accuracy: 0.9685 - val_loss: 0.1316 - val_accuracy: 0.9628\n",
      "Epoch 56/200\n",
      "12/12 [==============================] - 0s 5ms/step - loss: 0.1280 - accuracy: 0.9685 - val_loss: 0.1303 - val_accuracy: 0.9628\n",
      "Epoch 57/200\n",
      "12/12 [==============================] - 0s 6ms/step - loss: 0.1270 - accuracy: 0.9711 - val_loss: 0.1290 - val_accuracy: 0.9628\n",
      "Epoch 58/200\n",
      "12/12 [==============================] - 0s 5ms/step - loss: 0.1259 - accuracy: 0.9711 - val_loss: 0.1277 - val_accuracy: 0.9628\n",
      "Epoch 59/200\n",
      "12/12 [==============================] - 0s 6ms/step - loss: 0.1249 - accuracy: 0.9711 - val_loss: 0.1265 - val_accuracy: 0.9628\n",
      "Epoch 60/200\n",
      "12/12 [==============================] - 0s 7ms/step - loss: 0.1238 - accuracy: 0.9711 - val_loss: 0.1253 - val_accuracy: 0.9628\n",
      "Epoch 61/200\n",
      "12/12 [==============================] - 0s 5ms/step - loss: 0.1228 - accuracy: 0.9711 - val_loss: 0.1241 - val_accuracy: 0.9628\n",
      "Epoch 62/200\n",
      "12/12 [==============================] - 0s 5ms/step - loss: 0.1219 - accuracy: 0.9711 - val_loss: 0.1231 - val_accuracy: 0.9628\n",
      "Epoch 63/200\n",
      "12/12 [==============================] - 0s 5ms/step - loss: 0.1209 - accuracy: 0.9711 - val_loss: 0.1220 - val_accuracy: 0.9628\n",
      "Epoch 64/200\n",
      "12/12 [==============================] - 0s 6ms/step - loss: 0.1200 - accuracy: 0.9711 - val_loss: 0.1209 - val_accuracy: 0.9628\n",
      "Epoch 65/200\n",
      "12/12 [==============================] - 0s 6ms/step - loss: 0.1191 - accuracy: 0.9711 - val_loss: 0.1199 - val_accuracy: 0.9628\n",
      "Epoch 66/200\n",
      "12/12 [==============================] - 0s 5ms/step - loss: 0.1183 - accuracy: 0.9711 - val_loss: 0.1188 - val_accuracy: 0.9681\n",
      "Epoch 67/200\n",
      "12/12 [==============================] - 0s 5ms/step - loss: 0.1174 - accuracy: 0.9711 - val_loss: 0.1178 - val_accuracy: 0.9681\n",
      "Epoch 68/200\n",
      "12/12 [==============================] - 0s 5ms/step - loss: 0.1166 - accuracy: 0.9711 - val_loss: 0.1169 - val_accuracy: 0.9681\n",
      "Epoch 69/200\n",
      "12/12 [==============================] - 0s 9ms/step - loss: 0.1158 - accuracy: 0.9711 - val_loss: 0.1159 - val_accuracy: 0.9734\n",
      "Epoch 70/200\n",
      "12/12 [==============================] - 0s 6ms/step - loss: 0.1150 - accuracy: 0.9711 - val_loss: 0.1150 - val_accuracy: 0.9734\n",
      "Epoch 71/200\n",
      "12/12 [==============================] - 0s 8ms/step - loss: 0.1142 - accuracy: 0.9711 - val_loss: 0.1141 - val_accuracy: 0.9734\n",
      "Epoch 72/200\n",
      "12/12 [==============================] - 0s 7ms/step - loss: 0.1135 - accuracy: 0.9711 - val_loss: 0.1132 - val_accuracy: 0.9734\n",
      "Epoch 73/200\n",
      "12/12 [==============================] - 0s 7ms/step - loss: 0.1128 - accuracy: 0.9711 - val_loss: 0.1124 - val_accuracy: 0.9734\n",
      "Epoch 74/200\n",
      "12/12 [==============================] - 0s 6ms/step - loss: 0.1121 - accuracy: 0.9711 - val_loss: 0.1116 - val_accuracy: 0.9734\n",
      "Epoch 75/200\n",
      "12/12 [==============================] - 0s 7ms/step - loss: 0.1114 - accuracy: 0.9711 - val_loss: 0.1107 - val_accuracy: 0.9734\n",
      "Epoch 76/200\n",
      "12/12 [==============================] - 0s 5ms/step - loss: 0.1107 - accuracy: 0.9711 - val_loss: 0.1099 - val_accuracy: 0.9734\n",
      "Epoch 77/200\n",
      "12/12 [==============================] - 0s 5ms/step - loss: 0.1100 - accuracy: 0.9711 - val_loss: 0.1091 - val_accuracy: 0.9734\n",
      "Epoch 78/200\n",
      "12/12 [==============================] - 0s 5ms/step - loss: 0.1094 - accuracy: 0.9711 - val_loss: 0.1083 - val_accuracy: 0.9734\n",
      "Epoch 79/200\n",
      "12/12 [==============================] - 0s 6ms/step - loss: 0.1087 - accuracy: 0.9711 - val_loss: 0.1075 - val_accuracy: 0.9734\n",
      "Epoch 80/200\n",
      "12/12 [==============================] - 0s 6ms/step - loss: 0.1081 - accuracy: 0.9711 - val_loss: 0.1069 - val_accuracy: 0.9734\n",
      "Epoch 81/200\n",
      "12/12 [==============================] - 0s 5ms/step - loss: 0.1075 - accuracy: 0.9738 - val_loss: 0.1061 - val_accuracy: 0.9734\n",
      "Epoch 82/200\n",
      "12/12 [==============================] - 0s 5ms/step - loss: 0.1069 - accuracy: 0.9738 - val_loss: 0.1054 - val_accuracy: 0.9734\n",
      "Epoch 83/200\n",
      "12/12 [==============================] - 0s 5ms/step - loss: 0.1064 - accuracy: 0.9738 - val_loss: 0.1047 - val_accuracy: 0.9734\n",
      "Epoch 84/200\n",
      "12/12 [==============================] - 0s 5ms/step - loss: 0.1057 - accuracy: 0.9738 - val_loss: 0.1040 - val_accuracy: 0.9734\n",
      "Epoch 85/200\n",
      "12/12 [==============================] - 0s 5ms/step - loss: 0.1052 - accuracy: 0.9738 - val_loss: 0.1033 - val_accuracy: 0.9734\n",
      "Epoch 86/200\n",
      "12/12 [==============================] - 0s 5ms/step - loss: 0.1046 - accuracy: 0.9738 - val_loss: 0.1027 - val_accuracy: 0.9734\n",
      "Epoch 87/200\n",
      "12/12 [==============================] - 0s 5ms/step - loss: 0.1041 - accuracy: 0.9738 - val_loss: 0.1020 - val_accuracy: 0.9734\n",
      "Epoch 88/200\n",
      "12/12 [==============================] - 0s 6ms/step - loss: 0.1036 - accuracy: 0.9764 - val_loss: 0.1014 - val_accuracy: 0.9734\n",
      "Epoch 89/200\n",
      "12/12 [==============================] - 0s 6ms/step - loss: 0.1030 - accuracy: 0.9764 - val_loss: 0.1008 - val_accuracy: 0.9734\n",
      "Epoch 90/200\n",
      "12/12 [==============================] - 0s 5ms/step - loss: 0.1026 - accuracy: 0.9764 - val_loss: 0.1002 - val_accuracy: 0.9734\n",
      "Epoch 91/200\n",
      "12/12 [==============================] - 0s 5ms/step - loss: 0.1020 - accuracy: 0.9764 - val_loss: 0.0996 - val_accuracy: 0.9787\n",
      "Epoch 92/200\n",
      "12/12 [==============================] - 0s 5ms/step - loss: 0.1016 - accuracy: 0.9790 - val_loss: 0.0990 - val_accuracy: 0.9787\n",
      "Epoch 93/200\n",
      "12/12 [==============================] - 0s 5ms/step - loss: 0.1011 - accuracy: 0.9790 - val_loss: 0.0984 - val_accuracy: 0.9787\n",
      "Epoch 94/200\n",
      "12/12 [==============================] - 0s 6ms/step - loss: 0.1006 - accuracy: 0.9790 - val_loss: 0.0979 - val_accuracy: 0.9840\n",
      "Epoch 95/200\n",
      "12/12 [==============================] - 0s 5ms/step - loss: 0.1002 - accuracy: 0.9790 - val_loss: 0.0973 - val_accuracy: 0.9840\n",
      "Epoch 96/200\n",
      "12/12 [==============================] - 0s 6ms/step - loss: 0.0998 - accuracy: 0.9790 - val_loss: 0.0967 - val_accuracy: 0.9840\n",
      "Epoch 97/200\n",
      "12/12 [==============================] - 0s 6ms/step - loss: 0.0993 - accuracy: 0.9790 - val_loss: 0.0963 - val_accuracy: 0.9840\n",
      "Epoch 98/200\n",
      "12/12 [==============================] - 0s 7ms/step - loss: 0.0988 - accuracy: 0.9790 - val_loss: 0.0957 - val_accuracy: 0.9840\n",
      "Epoch 99/200\n",
      "12/12 [==============================] - 0s 5ms/step - loss: 0.0984 - accuracy: 0.9790 - val_loss: 0.0952 - val_accuracy: 0.9840\n",
      "Epoch 100/200\n",
      "12/12 [==============================] - 0s 6ms/step - loss: 0.0979 - accuracy: 0.9790 - val_loss: 0.0947 - val_accuracy: 0.9840\n",
      "Epoch 101/200\n",
      "12/12 [==============================] - 0s 5ms/step - loss: 0.0975 - accuracy: 0.9790 - val_loss: 0.0942 - val_accuracy: 0.9840\n",
      "Epoch 102/200\n",
      "12/12 [==============================] - 0s 5ms/step - loss: 0.0971 - accuracy: 0.9790 - val_loss: 0.0937 - val_accuracy: 0.9840\n",
      "Epoch 103/200\n",
      "12/12 [==============================] - 0s 6ms/step - loss: 0.0967 - accuracy: 0.9790 - val_loss: 0.0932 - val_accuracy: 0.9840\n",
      "Epoch 104/200\n",
      "12/12 [==============================] - 0s 5ms/step - loss: 0.0963 - accuracy: 0.9790 - val_loss: 0.0928 - val_accuracy: 0.9840\n",
      "Epoch 105/200\n",
      "12/12 [==============================] - 0s 5ms/step - loss: 0.0959 - accuracy: 0.9790 - val_loss: 0.0923 - val_accuracy: 0.9840\n",
      "Epoch 106/200\n",
      "12/12 [==============================] - 0s 5ms/step - loss: 0.0955 - accuracy: 0.9790 - val_loss: 0.0918 - val_accuracy: 0.9840\n",
      "Epoch 107/200\n",
      "12/12 [==============================] - 0s 6ms/step - loss: 0.0952 - accuracy: 0.9790 - val_loss: 0.0913 - val_accuracy: 0.9840\n",
      "Epoch 108/200\n",
      "12/12 [==============================] - 0s 6ms/step - loss: 0.0948 - accuracy: 0.9790 - val_loss: 0.0909 - val_accuracy: 0.9840\n",
      "Epoch 109/200\n",
      "12/12 [==============================] - 0s 5ms/step - loss: 0.0944 - accuracy: 0.9790 - val_loss: 0.0905 - val_accuracy: 0.9840\n",
      "Epoch 110/200\n",
      "12/12 [==============================] - 0s 5ms/step - loss: 0.0941 - accuracy: 0.9790 - val_loss: 0.0901 - val_accuracy: 0.9840\n",
      "Epoch 111/200\n"
     ]
    },
    {
     "name": "stdout",
     "output_type": "stream",
     "text": [
      "12/12 [==============================] - 0s 5ms/step - loss: 0.0937 - accuracy: 0.9790 - val_loss: 0.0897 - val_accuracy: 0.9840\n",
      "Epoch 112/200\n",
      "12/12 [==============================] - 0s 5ms/step - loss: 0.0934 - accuracy: 0.9790 - val_loss: 0.0892 - val_accuracy: 0.9840\n",
      "Epoch 113/200\n",
      "12/12 [==============================] - 0s 5ms/step - loss: 0.0930 - accuracy: 0.9790 - val_loss: 0.0888 - val_accuracy: 0.9840\n",
      "Epoch 114/200\n",
      "12/12 [==============================] - 0s 5ms/step - loss: 0.0927 - accuracy: 0.9790 - val_loss: 0.0884 - val_accuracy: 0.9840\n",
      "Epoch 115/200\n",
      "12/12 [==============================] - 0s 5ms/step - loss: 0.0923 - accuracy: 0.9790 - val_loss: 0.0880 - val_accuracy: 0.9840\n",
      "Epoch 116/200\n",
      "12/12 [==============================] - 0s 6ms/step - loss: 0.0920 - accuracy: 0.9790 - val_loss: 0.0876 - val_accuracy: 0.9840\n",
      "Epoch 117/200\n",
      "12/12 [==============================] - 0s 6ms/step - loss: 0.0917 - accuracy: 0.9790 - val_loss: 0.0873 - val_accuracy: 0.9840\n",
      "Epoch 118/200\n",
      "12/12 [==============================] - 0s 6ms/step - loss: 0.0914 - accuracy: 0.9790 - val_loss: 0.0868 - val_accuracy: 0.9840\n",
      "Epoch 119/200\n",
      "12/12 [==============================] - 0s 5ms/step - loss: 0.0910 - accuracy: 0.9790 - val_loss: 0.0865 - val_accuracy: 0.9840\n",
      "Epoch 120/200\n",
      "12/12 [==============================] - 0s 5ms/step - loss: 0.0907 - accuracy: 0.9790 - val_loss: 0.0861 - val_accuracy: 0.9840\n",
      "Epoch 121/200\n",
      "12/12 [==============================] - 0s 5ms/step - loss: 0.0904 - accuracy: 0.9790 - val_loss: 0.0858 - val_accuracy: 0.9840\n",
      "Epoch 122/200\n",
      "12/12 [==============================] - 0s 6ms/step - loss: 0.0901 - accuracy: 0.9790 - val_loss: 0.0854 - val_accuracy: 0.9840\n",
      "Epoch 123/200\n",
      "12/12 [==============================] - 0s 5ms/step - loss: 0.0898 - accuracy: 0.9790 - val_loss: 0.0851 - val_accuracy: 0.9840\n",
      "Epoch 124/200\n",
      "12/12 [==============================] - 0s 5ms/step - loss: 0.0895 - accuracy: 0.9790 - val_loss: 0.0847 - val_accuracy: 0.9840\n",
      "Epoch 125/200\n",
      "12/12 [==============================] - 0s 6ms/step - loss: 0.0893 - accuracy: 0.9790 - val_loss: 0.0844 - val_accuracy: 0.9840\n",
      "Epoch 126/200\n",
      "12/12 [==============================] - 0s 6ms/step - loss: 0.0889 - accuracy: 0.9790 - val_loss: 0.0841 - val_accuracy: 0.9840\n",
      "Epoch 127/200\n",
      "12/12 [==============================] - 0s 5ms/step - loss: 0.0887 - accuracy: 0.9790 - val_loss: 0.0837 - val_accuracy: 0.9840\n",
      "Epoch 128/200\n",
      "12/12 [==============================] - 0s 5ms/step - loss: 0.0884 - accuracy: 0.9790 - val_loss: 0.0834 - val_accuracy: 0.9840\n",
      "Epoch 129/200\n",
      "12/12 [==============================] - 0s 5ms/step - loss: 0.0881 - accuracy: 0.9790 - val_loss: 0.0831 - val_accuracy: 0.9840\n",
      "Epoch 130/200\n",
      "12/12 [==============================] - 0s 5ms/step - loss: 0.0878 - accuracy: 0.9790 - val_loss: 0.0828 - val_accuracy: 0.9840\n",
      "Epoch 131/200\n",
      "12/12 [==============================] - 0s 5ms/step - loss: 0.0876 - accuracy: 0.9790 - val_loss: 0.0824 - val_accuracy: 0.9840\n",
      "Epoch 132/200\n",
      "12/12 [==============================] - 0s 7ms/step - loss: 0.0873 - accuracy: 0.9790 - val_loss: 0.0821 - val_accuracy: 0.9840\n",
      "Epoch 133/200\n",
      "12/12 [==============================] - 0s 6ms/step - loss: 0.0870 - accuracy: 0.9790 - val_loss: 0.0818 - val_accuracy: 0.9840\n",
      "Epoch 134/200\n",
      "12/12 [==============================] - 0s 6ms/step - loss: 0.0867 - accuracy: 0.9790 - val_loss: 0.0815 - val_accuracy: 0.9840\n",
      "Epoch 135/200\n",
      "12/12 [==============================] - 0s 5ms/step - loss: 0.0865 - accuracy: 0.9790 - val_loss: 0.0812 - val_accuracy: 0.9840\n",
      "Epoch 136/200\n",
      "12/12 [==============================] - 0s 11ms/step - loss: 0.0862 - accuracy: 0.9790 - val_loss: 0.0809 - val_accuracy: 0.9840\n",
      "Epoch 137/200\n",
      "12/12 [==============================] - 0s 5ms/step - loss: 0.0860 - accuracy: 0.9790 - val_loss: 0.0806 - val_accuracy: 0.9840\n",
      "Epoch 138/200\n",
      "12/12 [==============================] - 0s 5ms/step - loss: 0.0857 - accuracy: 0.9790 - val_loss: 0.0804 - val_accuracy: 0.9840\n",
      "Epoch 139/200\n",
      "12/12 [==============================] - 0s 5ms/step - loss: 0.0855 - accuracy: 0.9790 - val_loss: 0.0801 - val_accuracy: 0.9840\n",
      "Epoch 140/200\n",
      "12/12 [==============================] - 0s 5ms/step - loss: 0.0853 - accuracy: 0.9790 - val_loss: 0.0798 - val_accuracy: 0.9840\n",
      "Epoch 141/200\n",
      "12/12 [==============================] - 0s 4ms/step - loss: 0.0851 - accuracy: 0.9790 - val_loss: 0.0795 - val_accuracy: 0.9840\n",
      "Epoch 142/200\n",
      "12/12 [==============================] - 0s 4ms/step - loss: 0.0848 - accuracy: 0.9790 - val_loss: 0.0792 - val_accuracy: 0.9840\n",
      "Epoch 143/200\n",
      "12/12 [==============================] - 0s 5ms/step - loss: 0.0845 - accuracy: 0.9790 - val_loss: 0.0790 - val_accuracy: 0.9840\n",
      "Epoch 144/200\n",
      "12/12 [==============================] - 0s 4ms/step - loss: 0.0843 - accuracy: 0.9790 - val_loss: 0.0787 - val_accuracy: 0.9840\n",
      "Epoch 145/200\n",
      "12/12 [==============================] - 0s 7ms/step - loss: 0.0841 - accuracy: 0.9790 - val_loss: 0.0785 - val_accuracy: 0.9840\n",
      "Epoch 146/200\n",
      "12/12 [==============================] - 0s 21ms/step - loss: 0.0838 - accuracy: 0.9790 - val_loss: 0.0782 - val_accuracy: 0.9840\n",
      "Epoch 147/200\n",
      "12/12 [==============================] - 0s 11ms/step - loss: 0.0836 - accuracy: 0.9790 - val_loss: 0.0780 - val_accuracy: 0.9840\n",
      "Epoch 148/200\n",
      "12/12 [==============================] - 0s 6ms/step - loss: 0.0834 - accuracy: 0.9790 - val_loss: 0.0777 - val_accuracy: 0.9840\n",
      "Epoch 149/200\n",
      "12/12 [==============================] - 0s 6ms/step - loss: 0.0832 - accuracy: 0.9790 - val_loss: 0.0774 - val_accuracy: 0.9840\n",
      "Epoch 150/200\n",
      "12/12 [==============================] - 0s 5ms/step - loss: 0.0830 - accuracy: 0.9790 - val_loss: 0.0772 - val_accuracy: 0.9840\n",
      "Epoch 151/200\n",
      "12/12 [==============================] - 0s 6ms/step - loss: 0.0828 - accuracy: 0.9816 - val_loss: 0.0770 - val_accuracy: 0.9840\n",
      "Epoch 152/200\n",
      "12/12 [==============================] - 0s 5ms/step - loss: 0.0826 - accuracy: 0.9790 - val_loss: 0.0767 - val_accuracy: 0.9840\n",
      "Epoch 153/200\n",
      "12/12 [==============================] - 0s 5ms/step - loss: 0.0823 - accuracy: 0.9790 - val_loss: 0.0765 - val_accuracy: 0.9840\n",
      "Epoch 154/200\n",
      "12/12 [==============================] - 0s 5ms/step - loss: 0.0821 - accuracy: 0.9816 - val_loss: 0.0762 - val_accuracy: 0.9840\n",
      "Epoch 155/200\n",
      "12/12 [==============================] - 0s 6ms/step - loss: 0.0819 - accuracy: 0.9816 - val_loss: 0.0760 - val_accuracy: 0.9840\n",
      "Epoch 156/200\n",
      "12/12 [==============================] - 0s 5ms/step - loss: 0.0818 - accuracy: 0.9816 - val_loss: 0.0758 - val_accuracy: 0.9840\n",
      "Epoch 157/200\n",
      "12/12 [==============================] - 0s 5ms/step - loss: 0.0815 - accuracy: 0.9816 - val_loss: 0.0756 - val_accuracy: 0.9840\n",
      "Epoch 158/200\n",
      "12/12 [==============================] - 0s 6ms/step - loss: 0.0813 - accuracy: 0.9816 - val_loss: 0.0754 - val_accuracy: 0.9840\n",
      "Epoch 159/200\n",
      "12/12 [==============================] - 0s 5ms/step - loss: 0.0811 - accuracy: 0.9816 - val_loss: 0.0752 - val_accuracy: 0.9840\n",
      "Epoch 160/200\n",
      "12/12 [==============================] - 0s 6ms/step - loss: 0.0809 - accuracy: 0.9816 - val_loss: 0.0750 - val_accuracy: 0.9840\n",
      "Epoch 161/200\n",
      "12/12 [==============================] - 0s 5ms/step - loss: 0.0807 - accuracy: 0.9816 - val_loss: 0.0747 - val_accuracy: 0.9840\n",
      "Epoch 162/200\n",
      "12/12 [==============================] - 0s 5ms/step - loss: 0.0805 - accuracy: 0.9816 - val_loss: 0.0745 - val_accuracy: 0.9840\n",
      "Epoch 163/200\n",
      "12/12 [==============================] - 0s 5ms/step - loss: 0.0803 - accuracy: 0.9816 - val_loss: 0.0743 - val_accuracy: 0.9840\n",
      "Epoch 164/200\n",
      "12/12 [==============================] - 0s 6ms/step - loss: 0.0802 - accuracy: 0.9816 - val_loss: 0.0741 - val_accuracy: 0.9840\n",
      "Epoch 165/200\n",
      "12/12 [==============================] - 0s 5ms/step - loss: 0.0800 - accuracy: 0.9816 - val_loss: 0.0739 - val_accuracy: 0.9840\n",
      "Epoch 166/200\n",
      "12/12 [==============================] - 0s 4ms/step - loss: 0.0798 - accuracy: 0.9816 - val_loss: 0.0737 - val_accuracy: 0.9840\n",
      "Epoch 167/200\n",
      "12/12 [==============================] - 0s 5ms/step - loss: 0.0796 - accuracy: 0.9816 - val_loss: 0.0735 - val_accuracy: 0.9840\n",
      "Epoch 168/200\n"
     ]
    },
    {
     "name": "stdout",
     "output_type": "stream",
     "text": [
      "12/12 [==============================] - 0s 5ms/step - loss: 0.0794 - accuracy: 0.9816 - val_loss: 0.0733 - val_accuracy: 0.9840\n",
      "Epoch 169/200\n",
      "12/12 [==============================] - 0s 5ms/step - loss: 0.0793 - accuracy: 0.9816 - val_loss: 0.0731 - val_accuracy: 0.9840\n",
      "Epoch 170/200\n",
      "12/12 [==============================] - 0s 5ms/step - loss: 0.0791 - accuracy: 0.9816 - val_loss: 0.0729 - val_accuracy: 0.9840\n",
      "Epoch 171/200\n",
      "12/12 [==============================] - 0s 5ms/step - loss: 0.0789 - accuracy: 0.9816 - val_loss: 0.0727 - val_accuracy: 0.9840\n",
      "Epoch 172/200\n",
      "12/12 [==============================] - 0s 5ms/step - loss: 0.0787 - accuracy: 0.9816 - val_loss: 0.0725 - val_accuracy: 0.9840\n",
      "Epoch 173/200\n",
      "12/12 [==============================] - 0s 5ms/step - loss: 0.0786 - accuracy: 0.9816 - val_loss: 0.0723 - val_accuracy: 0.9840\n",
      "Epoch 174/200\n",
      "12/12 [==============================] - 0s 6ms/step - loss: 0.0784 - accuracy: 0.9816 - val_loss: 0.0722 - val_accuracy: 0.9840\n",
      "Epoch 175/200\n",
      "12/12 [==============================] - 0s 5ms/step - loss: 0.0782 - accuracy: 0.9816 - val_loss: 0.0720 - val_accuracy: 0.9840\n",
      "Epoch 176/200\n",
      "12/12 [==============================] - 0s 6ms/step - loss: 0.0781 - accuracy: 0.9816 - val_loss: 0.0718 - val_accuracy: 0.9840\n",
      "Epoch 177/200\n",
      "12/12 [==============================] - 0s 5ms/step - loss: 0.0779 - accuracy: 0.9816 - val_loss: 0.0717 - val_accuracy: 0.9840\n",
      "Epoch 178/200\n",
      "12/12 [==============================] - 0s 5ms/step - loss: 0.0778 - accuracy: 0.9816 - val_loss: 0.0715 - val_accuracy: 0.9894\n",
      "Epoch 179/200\n",
      "12/12 [==============================] - 0s 5ms/step - loss: 0.0776 - accuracy: 0.9816 - val_loss: 0.0713 - val_accuracy: 0.9894\n",
      "Epoch 180/200\n",
      "12/12 [==============================] - 0s 5ms/step - loss: 0.0774 - accuracy: 0.9816 - val_loss: 0.0711 - val_accuracy: 0.9894\n",
      "Epoch 181/200\n",
      "12/12 [==============================] - 0s 4ms/step - loss: 0.0772 - accuracy: 0.9816 - val_loss: 0.0709 - val_accuracy: 0.9894\n",
      "Epoch 182/200\n",
      "12/12 [==============================] - 0s 5ms/step - loss: 0.0771 - accuracy: 0.9816 - val_loss: 0.0708 - val_accuracy: 0.9894\n",
      "Epoch 183/200\n",
      "12/12 [==============================] - 0s 6ms/step - loss: 0.0769 - accuracy: 0.9816 - val_loss: 0.0706 - val_accuracy: 0.9894\n",
      "Epoch 184/200\n",
      "12/12 [==============================] - 0s 5ms/step - loss: 0.0768 - accuracy: 0.9816 - val_loss: 0.0705 - val_accuracy: 0.9894\n",
      "Epoch 185/200\n",
      "12/12 [==============================] - 0s 5ms/step - loss: 0.0767 - accuracy: 0.9816 - val_loss: 0.0702 - val_accuracy: 0.9894\n",
      "Epoch 186/200\n",
      "12/12 [==============================] - 0s 4ms/step - loss: 0.0764 - accuracy: 0.9816 - val_loss: 0.0701 - val_accuracy: 0.9894\n",
      "Epoch 187/200\n",
      "12/12 [==============================] - 0s 4ms/step - loss: 0.0763 - accuracy: 0.9816 - val_loss: 0.0700 - val_accuracy: 0.9894\n",
      "Epoch 188/200\n",
      "12/12 [==============================] - 0s 5ms/step - loss: 0.0761 - accuracy: 0.9816 - val_loss: 0.0698 - val_accuracy: 0.9894\n",
      "Epoch 189/200\n",
      "12/12 [==============================] - 0s 5ms/step - loss: 0.0760 - accuracy: 0.9816 - val_loss: 0.0696 - val_accuracy: 0.9894\n",
      "Epoch 190/200\n",
      "12/12 [==============================] - 0s 5ms/step - loss: 0.0759 - accuracy: 0.9816 - val_loss: 0.0695 - val_accuracy: 0.9894\n",
      "Epoch 191/200\n",
      "12/12 [==============================] - 0s 4ms/step - loss: 0.0757 - accuracy: 0.9816 - val_loss: 0.0693 - val_accuracy: 0.9894\n",
      "Epoch 192/200\n",
      "12/12 [==============================] - 0s 5ms/step - loss: 0.0755 - accuracy: 0.9816 - val_loss: 0.0692 - val_accuracy: 0.9894\n",
      "Epoch 193/200\n",
      "12/12 [==============================] - 0s 6ms/step - loss: 0.0754 - accuracy: 0.9816 - val_loss: 0.0690 - val_accuracy: 0.9894\n",
      "Epoch 194/200\n",
      "12/12 [==============================] - 0s 6ms/step - loss: 0.0752 - accuracy: 0.9816 - val_loss: 0.0689 - val_accuracy: 0.9894\n",
      "Epoch 195/200\n",
      "12/12 [==============================] - 0s 5ms/step - loss: 0.0751 - accuracy: 0.9816 - val_loss: 0.0687 - val_accuracy: 0.9894\n",
      "Epoch 196/200\n",
      "12/12 [==============================] - 0s 5ms/step - loss: 0.0750 - accuracy: 0.9816 - val_loss: 0.0686 - val_accuracy: 0.9894\n",
      "Epoch 197/200\n",
      "12/12 [==============================] - 0s 5ms/step - loss: 0.0748 - accuracy: 0.9816 - val_loss: 0.0685 - val_accuracy: 0.9894\n",
      "Epoch 198/200\n",
      "12/12 [==============================] - 0s 5ms/step - loss: 0.0747 - accuracy: 0.9816 - val_loss: 0.0683 - val_accuracy: 0.9894\n",
      "Epoch 199/200\n",
      "12/12 [==============================] - 0s 5ms/step - loss: 0.0746 - accuracy: 0.9816 - val_loss: 0.0682 - val_accuracy: 0.9894\n",
      "Epoch 200/200\n",
      "12/12 [==============================] - 0s 5ms/step - loss: 0.0744 - accuracy: 0.9816 - val_loss: 0.0680 - val_accuracy: 0.9894\n"
     ]
    }
   ],
   "source": [
    "classifier = model.fit(X_train, y_train, epochs = 200, validation_data = (X_test, y_test))"
   ]
  },
  {
   "cell_type": "code",
   "execution_count": 159,
   "metadata": {},
   "outputs": [
    {
     "name": "stdout",
     "output_type": "stream",
     "text": [
      "12/12 [==============================] - 0s 1ms/step - loss: 0.0784 - accuracy: 0.9843\n",
      "The training loss is:  [0.07844420522451401, 0.9842519760131836]\n",
      "6/6 [==============================] - 0s 2ms/step - loss: 0.0683 - accuracy: 0.9894\n",
      "The test loss is:  [0.0682644471526146, 0.9893617033958435]\n"
     ]
    }
   ],
   "source": [
    "# Evaluate\n",
    "\n",
    "print(\"The training loss is: \", model.evaluate(X_train,y_train))\n",
    "print(\"The test loss is: \", model.evaluate(X_test,y_test))"
   ]
  },
  {
   "cell_type": "code",
   "execution_count": 157,
   "metadata": {},
   "outputs": [
    {
     "data": {
      "text/plain": [
       "<matplotlib.legend.Legend at 0x7ff517a22890>"
      ]
     },
     "execution_count": 157,
     "metadata": {},
     "output_type": "execute_result"
    },
    {
     "data": {
      "image/png": "[encoded data removed]",
      "text/plain": [
       "<Figure size 432x288 with 1 Axes>"
      ]
     },
     "metadata": {
      "needs_background": "light"
     },
     "output_type": "display_data"
    }
   ],
   "source": [
    "# Plotting evaluations - losses\n",
    "\n",
    "plt.plot(classifier.history['loss'], label = 'loss')\n",
    "plt.plot(classifier.history['val_loss'], label = 'validation loss')\n",
    "plt.legend()"
   ]
  },
  {
   "cell_type": "code",
   "execution_count": 158,
   "metadata": {},
   "outputs": [
    {
     "data": {
      "text/plain": [
       "<matplotlib.legend.Legend at 0x7ff517a78790>"
      ]
     },
     "execution_count": 158,
     "metadata": {},
     "output_type": "execute_result"
    },
    {
     "data": {
      "image/png": "[encoded data removed]",
      "text/plain": [
       "<Figure size 432x288 with 1 Axes>"
      ]
     },
     "metadata": {
      "needs_background": "light"
     },
     "output_type": "display_data"
    }
   ],
   "source": [
    "# Plotting evaluations - accuracy\n",
    "\n",
    "plt.plot(classifier.history['accuracy'], label = 'accuracy')\n",
    "plt.plot(classifier.history['val_accuracy'], label = 'validation accuracy')\n",
    "plt.legend()"
   ]
  },
  {
   "cell_type": "code",
   "execution_count": 176,
   "metadata": {},
   "outputs": [
    {
     "name": "stdout",
     "output_type": "stream",
     "text": [
      "[[8.8971722e-01]\n",
      " [3.9333105e-04]\n",
      " [1.7293960e-02]\n",
      " [9.9676895e-01]\n",
      " [9.9950218e-01]\n",
      " [6.8301187e-09]\n",
      " [4.6883710e-07]\n",
      " [1.0860258e-01]\n",
      " [5.1864600e-01]\n",
      " [9.9618506e-01]\n",
      " [9.1907442e-01]\n",
      " [4.0606737e-02]\n",
      " [9.7999835e-01]\n",
      " [3.9878398e-01]\n",
      " [9.9426353e-01]\n",
      " [2.6574731e-03]\n",
      " [9.9266464e-01]\n",
      " [9.9988353e-01]\n",
      " [9.9999750e-01]\n",
      " [4.3622687e-05]\n",
      " [8.6587226e-01]\n",
      " [9.7508568e-01]\n",
      " [4.8988335e-07]\n",
      " [9.9979311e-01]\n",
      " [9.9549294e-01]\n",
      " [9.9817538e-01]\n",
      " [9.9305004e-01]\n",
      " [9.7168863e-01]\n",
      " [9.8914075e-01]\n",
      " [8.9177607e-05]\n",
      " [9.9764091e-01]\n",
      " [9.9936795e-01]\n",
      " [9.9759269e-01]\n",
      " [9.8991430e-01]\n",
      " [9.9951017e-01]\n",
      " [9.9545586e-01]\n",
      " [1.8886766e-01]\n",
      " [9.9602032e-01]\n",
      " [1.1805296e-03]\n",
      " [9.1831362e-01]\n",
      " [9.9952126e-01]\n",
      " [6.9715083e-03]\n",
      " [9.8861337e-01]\n",
      " [9.9705338e-01]\n",
      " [9.5395029e-01]\n",
      " [9.5815700e-01]\n",
      " [9.9905479e-01]\n",
      " [9.9913007e-01]\n",
      " [9.4814146e-01]\n",
      " [9.9625266e-01]\n",
      " [1.2281239e-03]\n",
      " [4.0409177e-06]\n",
      " [6.4921838e-01]\n",
      " [9.3165523e-01]\n",
      " [9.9990106e-01]\n",
      " [9.7943151e-01]\n",
      " [9.9960077e-01]\n",
      " [2.9091329e-09]\n",
      " [1.3721910e-01]\n",
      " [9.9933827e-01]\n",
      " [9.8243630e-01]\n",
      " [1.3208555e-05]\n",
      " [7.8129199e-07]\n",
      " [9.3739474e-01]\n",
      " [9.9789274e-01]\n",
      " [8.2491922e-01]\n",
      " [3.9878488e-04]\n",
      " [1.9232762e-07]\n",
      " [9.9667996e-01]\n",
      " [9.5798182e-01]\n",
      " [1.0459214e-02]\n",
      " [5.4213405e-03]\n",
      " [9.8939180e-01]\n",
      " [6.6129565e-03]\n",
      " [9.9993724e-01]\n",
      " [9.7069633e-01]\n",
      " [9.5179206e-01]\n",
      " [4.7224456e-01]\n",
      " [9.9985731e-01]\n",
      " [9.7365773e-01]\n",
      " [1.2172431e-02]\n",
      " [9.9978548e-01]\n",
      " [1.7402756e-01]\n",
      " [2.5653419e-06]\n",
      " [1.9918323e-02]\n",
      " [5.0259829e-03]\n",
      " [3.8799644e-04]\n",
      " [2.7985871e-03]\n",
      " [9.9825168e-01]\n",
      " [9.8932076e-01]\n",
      " [9.8453677e-01]\n",
      " [5.7158029e-01]\n",
      " [9.5799983e-01]\n",
      " [9.9851477e-01]\n",
      " [9.9850351e-01]\n",
      " [9.9978948e-01]\n",
      " [2.4729388e-05]\n",
      " [3.3917862e-05]\n",
      " [9.9968219e-01]\n",
      " [1.3428032e-03]\n",
      " [1.2196064e-02]\n",
      " [9.9999237e-01]\n",
      " [2.4378300e-04]\n",
      " [2.1730661e-03]\n",
      " [9.8919451e-01]\n",
      " [9.6159625e-01]\n",
      " [9.8689115e-01]\n",
      " [1.6733730e-07]\n",
      " [7.7155149e-01]\n",
      " [9.4289827e-01]\n",
      " [7.0286989e-03]\n",
      " [9.9545503e-01]\n",
      " [5.3356034e-01]\n",
      " [1.1471222e-08]\n",
      " [9.1431046e-01]\n",
      " [1.0669218e-07]\n",
      " [9.9996352e-01]\n",
      " [9.5177054e-01]\n",
      " [9.9988556e-01]\n",
      " [4.4238567e-04]\n",
      " [9.9920917e-01]\n",
      " [9.9782282e-01]\n",
      " [9.8993921e-01]\n",
      " [9.3773007e-04]\n",
      " [8.7641346e-01]\n",
      " [1.4410211e-05]\n",
      " [3.0269623e-03]\n",
      " [9.9793351e-01]\n",
      " [9.9499118e-01]\n",
      " [2.1619915e-05]\n",
      " [2.4089231e-06]\n",
      " [1.8502196e-05]\n",
      " [9.8288727e-01]\n",
      " [9.9541306e-01]\n",
      " [9.7007483e-01]\n",
      " [7.2842240e-03]\n",
      " [6.0469580e-01]\n",
      " [9.8929012e-01]\n",
      " [7.1933746e-01]\n",
      " [5.9958398e-03]\n",
      " [9.9453366e-01]\n",
      " [1.5378047e-06]\n",
      " [9.9986118e-01]\n",
      " [9.9985325e-01]\n",
      " [2.0915031e-02]\n",
      " [9.9547279e-01]\n",
      " [7.7530145e-05]\n",
      " [2.0259657e-05]\n",
      " [3.8390723e-01]\n",
      " [9.9944437e-01]\n",
      " [1.4622870e-01]\n",
      " [9.9959224e-01]\n",
      " [9.9996150e-01]\n",
      " [9.4617045e-01]\n",
      " [9.9689895e-01]\n",
      " [7.4971945e-10]\n",
      " [5.1420927e-04]\n",
      " [9.9991500e-01]\n",
      " [9.8157740e-01]\n",
      " [9.9992299e-01]\n",
      " [9.9999774e-01]\n",
      " [9.9917817e-01]\n",
      " [9.9964416e-01]\n",
      " [9.9270248e-01]\n",
      " [1.7608961e-01]\n",
      " [9.9792778e-01]\n",
      " [9.9757111e-01]\n",
      " [5.9331083e-01]\n",
      " [9.9992847e-01]\n",
      " [2.8966129e-02]\n",
      " [9.4130832e-01]\n",
      " [9.9624085e-01]\n",
      " [9.9674827e-01]\n",
      " [8.9680946e-01]\n",
      " [9.9317598e-01]\n",
      " [9.4527966e-01]\n",
      " [1.8526316e-01]\n",
      " [8.6826420e-01]\n",
      " [9.9597615e-01]\n",
      " [9.6767008e-01]\n",
      " [8.8906920e-01]\n",
      " [9.4070530e-01]\n",
      " [9.9950260e-01]\n",
      " [7.9916149e-02]\n",
      " [4.6063680e-03]\n",
      " [9.8441765e-02]\n",
      " [3.2491350e-01]\n",
      " [8.9075369e-01]]\n"
     ]
    }
   ],
   "source": [
    "# Predicitions\n",
    "\n",
    "\n",
    "predicitions = model.predict(X_test)\n",
    "print(predicitions)"
   ]
  },
  {
   "cell_type": "code",
   "execution_count": 177,
   "metadata": {},
   "outputs": [
    {
     "name": "stdout",
     "output_type": "stream",
     "text": [
      "[1. 0. 0. 1. 1. 0. 0. 0. 1. 1. 1. 0. 1. 0. 1. 0. 1. 1. 1. 0. 1. 1. 0. 1.\n",
      " 1. 1. 1. 1. 1. 0. 1. 1. 1. 1. 1. 1. 0. 1. 0. 1. 1. 0. 1. 1. 1. 1. 1. 1.\n",
      " 1. 1. 0. 0. 1. 1. 1. 1. 1. 0. 0. 1. 1. 0. 0. 1. 1. 1. 0. 0. 1. 1. 0. 0.\n",
      " 1. 0. 1. 1. 1. 0. 1. 1. 0. 1. 0. 0. 0. 0. 0. 0. 1. 1. 1. 1. 1. 1. 1. 1.\n",
      " 0. 0. 1. 0. 0. 1. 0. 0. 1. 1. 1. 0. 1. 1. 0. 1. 1. 0. 1. 0. 1. 1. 1. 0.\n",
      " 1. 1. 1. 0. 1. 0. 0. 1. 1. 0. 0. 0. 1. 1. 1. 0. 1. 1. 1. 0. 1. 0. 1. 1.\n",
      " 0. 1. 0. 0. 0. 1. 0. 1. 1. 1. 1. 0. 0. 1. 1. 1. 1. 1. 1. 1. 0. 1. 1. 1.\n",
      " 1. 0. 1. 1. 1. 1. 1. 1. 0. 1. 1. 1. 1. 1. 1. 0. 0. 0. 0. 1.]\n"
     ]
    }
   ],
   "source": [
    "# Rounding and flattening -> get actual predictions\n",
    "\n",
    "predicitions = np.round(predicitions).flatten()\n",
    "print(predicitions)"
   ]
  },
  {
   "cell_type": "code",
   "execution_count": 179,
   "metadata": {},
   "outputs": [],
   "source": [
    "from sklearn.metrics import confusion_matrix, classification_report"
   ]
  },
  {
   "cell_type": "code",
   "execution_count": 180,
   "metadata": {},
   "outputs": [
    {
     "name": "stdout",
     "output_type": "stream",
     "text": [
      "[[ 66   1]\n",
      " [  1 120]]\n"
     ]
    }
   ],
   "source": [
    "print(confusion_matrix(y_test,predicitions))"
   ]
  },
  {
   "cell_type": "code",
   "execution_count": 181,
   "metadata": {},
   "outputs": [
    {
     "name": "stdout",
     "output_type": "stream",
     "text": [
      "              precision    recall  f1-score   support\n",
      "\n",
      "           0       0.99      0.99      0.99        67\n",
      "           1       0.99      0.99      0.99       121\n",
      "\n",
      "    accuracy                           0.99       188\n",
      "   macro avg       0.99      0.99      0.99       188\n",
      "weighted avg       0.99      0.99      0.99       188\n",
      "\n"
     ]
    }
   ],
   "source": [
    "print(classification_report(y_test,predicitions))"
   ]
  },
  {
   "cell_type": "code",
   "execution_count": 189,
   "metadata": {},
   "outputs": [
    {
     "name": "stdout",
     "output_type": "stream",
     "text": [
      " Manual accuracy is: 0.9893617021276596\n",
      "6/6 [==============================] - 0s 1ms/step - loss: 0.0680 - accuracy: 0.9894\n",
      " Assessed accuracy is: [0.06803293526172638, 0.9893617033958435]\n"
     ]
    }
   ],
   "source": [
    "print(f\" Manual accuracy is: {np.mean(predicitions == y_test)}\")\n",
    "print(f\" Assessed accuracy is: {model.evaluate(X_test,y_test)}\")"
   ]
  },
  {
   "cell_type": "code",
   "execution_count": null,
   "metadata": {},
   "outputs": [],
   "source": []
  }
 ],
 "metadata": {
  "kernelspec": {
   "display_name": "Python 3",
   "language": "python",
   "name": "python3"
  },
  "language_info": {
   "codemirror_mode": {
    "name": "ipython",
    "version": 3
   },
   "file_extension": ".py",
   "mimetype": "text/x-python",
   "name": "python",
   "nbconvert_exporter": "python",
   "pygments_lexer": "ipython3",
   "version": "3.7.7"
  }
 },
 "nbformat": 4,
 "nbformat_minor": 4
}
