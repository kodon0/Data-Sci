{
 "cells": [
  {
   "cell_type": "code",
   "execution_count": 2,
   "metadata": {},
   "outputs": [],
   "source": [
    "#Here I will be looking at the Recruit Restaurant Visitor Forecasting dataset from Kaggle"
   ]
  },
  {
   "cell_type": "code",
   "execution_count": 7,
   "metadata": {},
   "outputs": [],
   "source": [
    "# From data source:\n",
    "\n",
    "# -Hot Pepper Gourmet (hpg): similar to Yelp, here users can search restaurants and also make a reservation online\n",
    "\n",
    "# -AirREGI / Restaurant Board (air): similar to Square, a reservation control and cash register system\n",
    "\n",
    "# Files:\n",
    "    \n",
    "# air_reserve.csv - This file contains reservations made in the air system. Note that the reserve_datetime indicates the time when the reservation was created, whereas the visit_datetime is the time in the future where the visit will occur.\n",
    "\n",
    "# hpg_reserve.csv - This file contains reservations made in the hpg system.\n",
    "\n",
    "# air_store_info.csv - This file contains information about select air restaurants. Column names and contents are self-explanatory.\n",
    "\n",
    "# hpg_store_info.csv - This file contains information about select hpg restaurants. Column names and contents are self-explanatory.\n",
    "\n",
    "# store_id_relation.csv - This file allows you to join select restaurants that have both the air and hpg system.\n",
    "\n",
    "# air_visit_data.csv - This file contains historical visit data for the air restaurants.\n",
    "\n",
    "# date_info.csv - This file gives basic information about the calendar dates in the dataset.\n"
   ]
  },
  {
   "cell_type": "code",
   "execution_count": 8,
   "metadata": {},
   "outputs": [],
   "source": [
    "import os,sys\n",
    "import pandas as pd\n",
    "import seaborn as sns\n",
    "import numpy as np\n",
    "import matplotlib.pyplot as plt\n",
    "import descartes\n",
    "import geopandas as gpd"
   ]
  },
  {
   "cell_type": "code",
   "execution_count": 13,
   "metadata": {},
   "outputs": [],
   "source": [
    "air_resserve = pd.read_csv('../Datasets/restaurants_japan/air_reserve.csv')\n",
    "air_store = pd.read_csv('../Datasets/restaurants_japan/air_store_info.csv')\n",
    "hpg_reserve = pd.read_csv('../Datasets/restaurants_japan/hpg_reserve.csv')\n",
    "hpg_store = pd.read_csv('../Datasets/restaurants_japan/hpg_store_info.csv')\n",
    "air_visit = pd.read_csv('../Datasets/restaurants_japan/air_visit_data.csv')\n",
    "id_rel = pd.read_csv('../Datasets/restaurants_japan/store_id_relation.csv')\n",
    "date_info = pd.read_csv('../Datasets/restaurants_japan/date_info.csv')"
   ]
  },
  {
   "cell_type": "code",
   "execution_count": 14,
   "metadata": {},
   "outputs": [
    {
     "data": {
      "text/html": [
       "<div>\n",
       "<style scoped>\n",
       "    .dataframe tbody tr th:only-of-type {\n",
       "        vertical-align: middle;\n",
       "    }\n",
       "\n",
       "    .dataframe tbody tr th {\n",
       "        vertical-align: top;\n",
       "    }\n",
       "\n",
       "    .dataframe thead th {\n",
       "        text-align: right;\n",
       "    }\n",
       "</style>\n",
       "<table border=\"1\" class=\"dataframe\">\n",
       "  <thead>\n",
       "    <tr style=\"text-align: right;\">\n",
       "      <th></th>\n",
       "      <th>calendar_date</th>\n",
       "      <th>day_of_week</th>\n",
       "      <th>holiday_flg</th>\n",
       "    </tr>\n",
       "  </thead>\n",
       "  <tbody>\n",
       "    <tr>\n",
       "      <th>0</th>\n",
       "      <td>2016-01-01</td>\n",
       "      <td>Friday</td>\n",
       "      <td>1</td>\n",
       "    </tr>\n",
       "    <tr>\n",
       "      <th>1</th>\n",
       "      <td>2016-01-02</td>\n",
       "      <td>Saturday</td>\n",
       "      <td>1</td>\n",
       "    </tr>\n",
       "    <tr>\n",
       "      <th>2</th>\n",
       "      <td>2016-01-03</td>\n",
       "      <td>Sunday</td>\n",
       "      <td>1</td>\n",
       "    </tr>\n",
       "    <tr>\n",
       "      <th>3</th>\n",
       "      <td>2016-01-04</td>\n",
       "      <td>Monday</td>\n",
       "      <td>0</td>\n",
       "    </tr>\n",
       "    <tr>\n",
       "      <th>4</th>\n",
       "      <td>2016-01-05</td>\n",
       "      <td>Tuesday</td>\n",
       "      <td>0</td>\n",
       "    </tr>\n",
       "    <tr>\n",
       "      <th>...</th>\n",
       "      <td>...</td>\n",
       "      <td>...</td>\n",
       "      <td>...</td>\n",
       "    </tr>\n",
       "    <tr>\n",
       "      <th>512</th>\n",
       "      <td>2017-05-27</td>\n",
       "      <td>Saturday</td>\n",
       "      <td>0</td>\n",
       "    </tr>\n",
       "    <tr>\n",
       "      <th>513</th>\n",
       "      <td>2017-05-28</td>\n",
       "      <td>Sunday</td>\n",
       "      <td>0</td>\n",
       "    </tr>\n",
       "    <tr>\n",
       "      <th>514</th>\n",
       "      <td>2017-05-29</td>\n",
       "      <td>Monday</td>\n",
       "      <td>0</td>\n",
       "    </tr>\n",
       "    <tr>\n",
       "      <th>515</th>\n",
       "      <td>2017-05-30</td>\n",
       "      <td>Tuesday</td>\n",
       "      <td>0</td>\n",
       "    </tr>\n",
       "    <tr>\n",
       "      <th>516</th>\n",
       "      <td>2017-05-31</td>\n",
       "      <td>Wednesday</td>\n",
       "      <td>0</td>\n",
       "    </tr>\n",
       "  </tbody>\n",
       "</table>\n",
       "<p>517 rows × 3 columns</p>\n",
       "</div>"
      ],
      "text/plain": [
       "    calendar_date day_of_week  holiday_flg\n",
       "0      2016-01-01      Friday            1\n",
       "1      2016-01-02    Saturday            1\n",
       "2      2016-01-03      Sunday            1\n",
       "3      2016-01-04      Monday            0\n",
       "4      2016-01-05     Tuesday            0\n",
       "..            ...         ...          ...\n",
       "512    2017-05-27    Saturday            0\n",
       "513    2017-05-28      Sunday            0\n",
       "514    2017-05-29      Monday            0\n",
       "515    2017-05-30     Tuesday            0\n",
       "516    2017-05-31   Wednesday            0\n",
       "\n",
       "[517 rows x 3 columns]"
      ]
     },
     "execution_count": 14,
     "metadata": {},
     "output_type": "execute_result"
    }
   ],
   "source": [
    "date_info"
   ]
  },
  {
   "cell_type": "code",
   "execution_count": null,
   "metadata": {},
   "outputs": [],
   "source": []
  }
 ],
 "metadata": {
  "kernelspec": {
   "display_name": "Python 3",
   "language": "python",
   "name": "python3"
  },
  "language_info": {
   "codemirror_mode": {
    "name": "ipython",
    "version": 3
   },
   "file_extension": ".py",
   "mimetype": "text/x-python",
   "name": "python",
   "nbconvert_exporter": "python",
   "pygments_lexer": "ipython3",
   "version": "3.7.9"
  }
 },
 "nbformat": 4,
 "nbformat_minor": 4
}
